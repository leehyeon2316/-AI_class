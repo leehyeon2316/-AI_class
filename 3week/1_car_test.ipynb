{
 "cells": [
  {
   "cell_type": "code",
   "execution_count": 60,
   "id": "5b0c3809-84de-4f3f-87cb-d719ef338a1b",
   "metadata": {},
   "outputs": [],
   "source": [
    "#라이브러리 불러기기\n",
    "import pandas as pd\n",
    "import numpy as np\n",
    "from sklearn.model_selection import train_test_split\n",
    "from sklearn.preprocessing import LabelEncoder\n",
    "from sklearn.metrics import accuracy_score, classification_report"
   ]
  },
  {
   "cell_type": "code",
   "execution_count": 61,
   "id": "473108ae-9888-443c-9555-a1092df694ab",
   "metadata": {},
   "outputs": [
    {
     "data": {
      "text/html": [
       "<div>\n",
       "<style scoped>\n",
       "    .dataframe tbody tr th:only-of-type {\n",
       "        vertical-align: middle;\n",
       "    }\n",
       "\n",
       "    .dataframe tbody tr th {\n",
       "        vertical-align: top;\n",
       "    }\n",
       "\n",
       "    .dataframe thead th {\n",
       "        text-align: right;\n",
       "    }\n",
       "</style>\n",
       "<table border=\"1\" class=\"dataframe\">\n",
       "  <thead>\n",
       "    <tr style=\"text-align: right;\">\n",
       "      <th></th>\n",
       "      <th>vhigh</th>\n",
       "      <th>vhigh.1</th>\n",
       "      <th>2</th>\n",
       "      <th>2.1</th>\n",
       "      <th>small</th>\n",
       "      <th>low</th>\n",
       "      <th>unacc</th>\n",
       "    </tr>\n",
       "  </thead>\n",
       "  <tbody>\n",
       "    <tr>\n",
       "      <th>0</th>\n",
       "      <td>vhigh</td>\n",
       "      <td>vhigh</td>\n",
       "      <td>2</td>\n",
       "      <td>2</td>\n",
       "      <td>small</td>\n",
       "      <td>med</td>\n",
       "      <td>unacc</td>\n",
       "    </tr>\n",
       "    <tr>\n",
       "      <th>1</th>\n",
       "      <td>vhigh</td>\n",
       "      <td>vhigh</td>\n",
       "      <td>2</td>\n",
       "      <td>2</td>\n",
       "      <td>small</td>\n",
       "      <td>high</td>\n",
       "      <td>unacc</td>\n",
       "    </tr>\n",
       "    <tr>\n",
       "      <th>2</th>\n",
       "      <td>vhigh</td>\n",
       "      <td>vhigh</td>\n",
       "      <td>2</td>\n",
       "      <td>2</td>\n",
       "      <td>med</td>\n",
       "      <td>low</td>\n",
       "      <td>unacc</td>\n",
       "    </tr>\n",
       "    <tr>\n",
       "      <th>3</th>\n",
       "      <td>vhigh</td>\n",
       "      <td>vhigh</td>\n",
       "      <td>2</td>\n",
       "      <td>2</td>\n",
       "      <td>med</td>\n",
       "      <td>med</td>\n",
       "      <td>unacc</td>\n",
       "    </tr>\n",
       "    <tr>\n",
       "      <th>4</th>\n",
       "      <td>vhigh</td>\n",
       "      <td>vhigh</td>\n",
       "      <td>2</td>\n",
       "      <td>2</td>\n",
       "      <td>med</td>\n",
       "      <td>high</td>\n",
       "      <td>unacc</td>\n",
       "    </tr>\n",
       "  </tbody>\n",
       "</table>\n",
       "</div>"
      ],
      "text/plain": [
       "   vhigh vhigh.1  2 2.1  small   low  unacc\n",
       "0  vhigh   vhigh  2   2  small   med  unacc\n",
       "1  vhigh   vhigh  2   2  small  high  unacc\n",
       "2  vhigh   vhigh  2   2    med   low  unacc\n",
       "3  vhigh   vhigh  2   2    med   med  unacc\n",
       "4  vhigh   vhigh  2   2    med  high  unacc"
      ]
     },
     "execution_count": 61,
     "metadata": {},
     "output_type": "execute_result"
    }
   ],
   "source": [
    "# 파일 드드\n",
    "file_path = \"car_evaluation.csv\" \n",
    "df = pd.read_csv(file_path)\n",
    "df.head()"
   ]
  },
  {
   "cell_type": "code",
   "execution_count": 62,
   "id": "dea2a94d-3957-40df-a639-2f51a8120e9f",
   "metadata": {},
   "outputs": [
    {
     "name": "stdout",
     "output_type": "stream",
     "text": [
      "[결측치 개수 확인]\n",
      "vhigh      0\n",
      "vhigh.1    0\n",
      "2          0\n",
      "2.1        0\n",
      "small      0\n",
      "low        0\n",
      "unacc      0\n",
      "dtype: int64\n"
     ]
    }
   ],
   "source": [
    "# 2️ 결측치 확인\n",
    "print(\"[결측치 개수 확인]\")\n",
    "print(df.isnull().sum())  # 각 컬럼별 결측치 개수 출력"
   ]
  },
  {
   "cell_type": "code",
   "execution_count": 63,
   "id": "ec70b6c2-7cc0-4ccd-a9d8-5d536a0a6a83",
   "metadata": {},
   "outputs": [
    {
     "name": "stdout",
     "output_type": "stream",
     "text": [
      "\n",
      "[타겟 레이블 확인]\n",
      "unacc\n",
      "unacc    1209\n",
      "acc       384\n",
      "good       69\n",
      "vgood      65\n",
      "Name: count, dtype: int64\n"
     ]
    }
   ],
   "source": [
    "# 4️ 레이블 확인 (Survived)\n",
    "print(\"\\n[타겟 레이블 확인]\")\n",
    "print(df['unacc'].value_counts())  # 생존(1) vs 사망(0) 개수 출력"
   ]
  },
  {
   "cell_type": "code",
   "execution_count": 64,
   "id": "2b858d0f-b462-4deb-9921-6ebabacee56b",
   "metadata": {},
   "outputs": [
    {
     "name": "stdout",
     "output_type": "stream",
     "text": [
      "\n",
      "[변환 전 데이터 확인]\n",
      "   vhigh vhigh.1  2 2.1  small   low  unacc\n",
      "0  vhigh   vhigh  2   2  small   med  unacc\n",
      "1  vhigh   vhigh  2   2  small  high  unacc\n",
      "2  vhigh   vhigh  2   2    med   low  unacc\n",
      "3  vhigh   vhigh  2   2    med   med  unacc\n",
      "4  vhigh   vhigh  2   2    med  high  unacc\n"
     ]
    }
   ],
   "source": [
    "# 6️ 문자 데이터를 숫자로 변환 (변환 전/후 비교)\n",
    "print(\"\\n[변환 전 데이터 확인]\")\n",
    "print(df.head())  # 변환 전 데이터 확인"
   ]
  },
  {
   "cell_type": "code",
   "execution_count": 65,
   "id": "3be016ac-0218-4de7-b3d7-4cfd6df95431",
   "metadata": {},
   "outputs": [],
   "source": [
    "label_encoders = {}  # 각 컬럼별 LabelEncoder 저장용\n",
    "for col in df.select_dtypes(include=['object']).columns:  # 문자열 데이터만 변환\n",
    "    le = LabelEncoder()\n",
    "    df[col] = le.fit_transform(df[col])\n",
    "    label_encoders[col] = le  # 인코더 저장"
   ]
  },
  {
   "cell_type": "code",
   "execution_count": 66,
   "id": "6c60c1a0-9a5d-4d32-ac56-ec9e04fe92dd",
   "metadata": {},
   "outputs": [
    {
     "name": "stdout",
     "output_type": "stream",
     "text": [
      "\n",
      "[변환 후 데이터 확인]\n",
      "   vhigh  vhigh.1  2  2.1  small  low  unacc\n",
      "0      3        3  0    0      2    2      2\n",
      "1      3        3  0    0      2    0      2\n",
      "2      3        3  0    0      1    1      2\n",
      "3      3        3  0    0      1    2      2\n",
      "4      3        3  0    0      1    0      2\n"
     ]
    }
   ],
   "source": [
    "print(\"\\n[변환 후 데이터 확인]\")\n",
    "print(df.head())  # 변환 후 데이터 확인"
   ]
  },
  {
   "cell_type": "code",
   "execution_count": 67,
   "id": "6048b3b0-f60d-4eb6-ac29-3d3aeefff0e0",
   "metadata": {},
   "outputs": [],
   "source": [
    "# 7️ 데이터 분할 (훈련 & 테스트)\n",
    "X = df.drop(columns=['unacc'])  # 입력 변수\n",
    "y = df['unacc']  # 타겟 변수"
   ]
  },
  {
   "cell_type": "code",
   "execution_count": 68,
   "id": "fc1c4e3e-2975-419b-98dc-703e46db1963",
   "metadata": {},
   "outputs": [],
   "source": [
    "X_train, X_test, y_train, y_test = train_test_split(X, y, test_size=0.2, random_state=42, stratify=y)"
   ]
  },
  {
   "cell_type": "code",
   "execution_count": 69,
   "id": "7327aa84-4ae5-4726-a930-a066075b07b6",
   "metadata": {},
   "outputs": [
    {
     "name": "stdout",
     "output_type": "stream",
     "text": [
      "\n",
      "[로지스틱 회귀]\n",
      "정확도: 0.6821\n",
      "              precision    recall  f1-score   support\n",
      "\n",
      "           0       0.26      0.08      0.12        77\n",
      "           1       0.00      0.00      0.00        14\n",
      "           2       0.73      0.94      0.82       242\n",
      "           3       0.18      0.15      0.17        13\n",
      "\n",
      "    accuracy                           0.68       346\n",
      "   macro avg       0.29      0.29      0.28       346\n",
      "weighted avg       0.58      0.68      0.61       346\n",
      "\n"
     ]
    },
    {
     "name": "stderr",
     "output_type": "stream",
     "text": [
      "C:\\Users\\leehy\\anaconda3\\Lib\\site-packages\\sklearn\\metrics\\_classification.py:1531: UndefinedMetricWarning: Precision is ill-defined and being set to 0.0 in labels with no predicted samples. Use `zero_division` parameter to control this behavior.\n",
      "  _warn_prf(average, modifier, f\"{metric.capitalize()} is\", len(result))\n",
      "C:\\Users\\leehy\\anaconda3\\Lib\\site-packages\\sklearn\\metrics\\_classification.py:1531: UndefinedMetricWarning: Precision is ill-defined and being set to 0.0 in labels with no predicted samples. Use `zero_division` parameter to control this behavior.\n",
      "  _warn_prf(average, modifier, f\"{metric.capitalize()} is\", len(result))\n",
      "C:\\Users\\leehy\\anaconda3\\Lib\\site-packages\\sklearn\\metrics\\_classification.py:1531: UndefinedMetricWarning: Precision is ill-defined and being set to 0.0 in labels with no predicted samples. Use `zero_division` parameter to control this behavior.\n",
      "  _warn_prf(average, modifier, f\"{metric.capitalize()} is\", len(result))\n"
     ]
    }
   ],
   "source": [
    "# 1️ 로지스틱 회귀 (Logistic Regression)\n",
    "from sklearn.linear_model import LogisticRegression\n",
    "\n",
    "# 모델 생성 및 학습\n",
    "model_lr = LogisticRegression(max_iter=1000)\n",
    "model_lr.fit(X_train, y_train)\n",
    "\n",
    "# 예측 및 평가\n",
    "y_pred_lr = model_lr.predict(X_test)\n",
    "acc_lr = accuracy_score(y_test, y_pred_lr)\n",
    "\n",
    "print(\"\\n[로지스틱 회귀]\")\n",
    "print(f\"정확도: {acc_lr:.4f}\")\n",
    "print(classification_report(y_test, y_pred_lr))"
   ]
  },
  {
   "cell_type": "code",
   "execution_count": 70,
   "id": "b6e85001-04e9-4d4e-ab66-43ec387c0a38",
   "metadata": {},
   "outputs": [
    {
     "name": "stdout",
     "output_type": "stream",
     "text": [
      "\n",
      "[의사결정나무]\n",
      " 정확도: 0.9884\n",
      "              precision    recall  f1-score   support\n",
      "\n",
      "           0       0.96      0.99      0.97        77\n",
      "           1       0.93      1.00      0.97        14\n",
      "           2       1.00      1.00      1.00       242\n",
      "           3       1.00      0.85      0.92        13\n",
      "\n",
      "    accuracy                           0.99       346\n",
      "   macro avg       0.97      0.96      0.96       346\n",
      "weighted avg       0.99      0.99      0.99       346\n",
      "\n"
     ]
    }
   ],
   "source": [
    "#2️ 의사결정나무 (Decision Tree)\n",
    "from sklearn.tree import DecisionTreeClassifier\n",
    "\n",
    "# 모델 생성 및 학습\n",
    "model_dt = DecisionTreeClassifier(random_state=42)\n",
    "model_dt.fit(X_train, y_train)\n",
    "\n",
    "# 예측 및 평가\n",
    "y_pred_dt = model_dt.predict(X_test)\n",
    "acc_dt = accuracy_score(y_test, y_pred_dt)\n",
    "\n",
    "print(\"\\n[의사결정나무]\")\n",
    "print(f\" 정확도: {acc_dt:.4f}\")\n",
    "print(classification_report(y_test, y_pred_dt))"
   ]
  },
  {
   "cell_type": "code",
   "execution_count": 71,
   "id": "7cfa6e2a-5993-40c7-ba52-5604ce97854e",
   "metadata": {},
   "outputs": [
    {
     "name": "stdout",
     "output_type": "stream",
     "text": [
      "\n",
      "[랜덤 포레스트]\n",
      "정확도: 0.9827\n",
      "              precision    recall  f1-score   support\n",
      "\n",
      "           0       0.95      0.97      0.96        77\n",
      "           1       1.00      0.93      0.96        14\n",
      "           2       0.99      0.99      0.99       242\n",
      "           3       1.00      0.92      0.96        13\n",
      "\n",
      "    accuracy                           0.98       346\n",
      "   macro avg       0.99      0.95      0.97       346\n",
      "weighted avg       0.98      0.98      0.98       346\n",
      "\n"
     ]
    }
   ],
   "source": [
    "#3️ 랜덤 포레스트 (Random Forest)\n",
    "from sklearn.ensemble import RandomForestClassifier\n",
    "\n",
    "# 모델 생성 및 학습\n",
    "model_rf = RandomForestClassifier(n_estimators=100, random_state=42)\n",
    "model_rf.fit(X_train, y_train)\n",
    "\n",
    "# 예측 및 평가\n",
    "y_pred_rf = model_rf.predict(X_test)\n",
    "acc_rf = accuracy_score(y_test, y_pred_rf)\n",
    "\n",
    "print(\"\\n[랜덤 포레스트]\")\n",
    "print(f\"정확도: {acc_rf:.4f}\")\n",
    "print(classification_report(y_test, y_pred_rf))"
   ]
  },
  {
   "cell_type": "code",
   "execution_count": 72,
   "id": "574cce9e-6ffc-424e-b1a2-80830c68f7c7",
   "metadata": {},
   "outputs": [
    {
     "name": "stdout",
     "output_type": "stream",
     "text": [
      "\n",
      "[서포트 벡터 머신]\n",
      "정확도: 0.7197\n",
      "              precision    recall  f1-score   support\n",
      "\n",
      "           0       0.52      0.14      0.22        77\n",
      "           1       0.00      0.00      0.00        14\n",
      "           2       0.73      0.98      0.84       242\n",
      "           3       0.00      0.00      0.00        13\n",
      "\n",
      "    accuracy                           0.72       346\n",
      "   macro avg       0.31      0.28      0.27       346\n",
      "weighted avg       0.63      0.72      0.64       346\n",
      "\n"
     ]
    },
    {
     "name": "stderr",
     "output_type": "stream",
     "text": [
      "C:\\Users\\leehy\\anaconda3\\Lib\\site-packages\\sklearn\\metrics\\_classification.py:1531: UndefinedMetricWarning: Precision is ill-defined and being set to 0.0 in labels with no predicted samples. Use `zero_division` parameter to control this behavior.\n",
      "  _warn_prf(average, modifier, f\"{metric.capitalize()} is\", len(result))\n",
      "C:\\Users\\leehy\\anaconda3\\Lib\\site-packages\\sklearn\\metrics\\_classification.py:1531: UndefinedMetricWarning: Precision is ill-defined and being set to 0.0 in labels with no predicted samples. Use `zero_division` parameter to control this behavior.\n",
      "  _warn_prf(average, modifier, f\"{metric.capitalize()} is\", len(result))\n",
      "C:\\Users\\leehy\\anaconda3\\Lib\\site-packages\\sklearn\\metrics\\_classification.py:1531: UndefinedMetricWarning: Precision is ill-defined and being set to 0.0 in labels with no predicted samples. Use `zero_division` parameter to control this behavior.\n",
      "  _warn_prf(average, modifier, f\"{metric.capitalize()} is\", len(result))\n"
     ]
    }
   ],
   "source": [
    "# 4️ 서포트 벡터 머신 (SVM)\n",
    "from sklearn.svm import SVC\n",
    "\n",
    "# 모델 생성 및 학습\n",
    "model_svm = SVC(kernel=\"linear\")\n",
    "model_svm.fit(X_train, y_train)\n",
    "\n",
    "# 예측 및 평가\n",
    "y_pred_svm = model_svm.predict(X_test)\n",
    "acc_svm = accuracy_score(y_test, y_pred_svm)\n",
    "\n",
    "print(\"\\n[서포트 벡터 머신]\")\n",
    "print(f\"정확도: {acc_svm:.4f}\")\n",
    "print(classification_report(y_test, y_pred_svm))"
   ]
  },
  {
   "cell_type": "code",
   "execution_count": 73,
   "id": "bca83ee9-3243-4802-9c2f-2832f22f9ffd",
   "metadata": {},
   "outputs": [
    {
     "name": "stdout",
     "output_type": "stream",
     "text": [
      "\n",
      "[K-최근접 이웃]\n",
      "정확도: 0.9335\n",
      "              precision    recall  f1-score   support\n",
      "\n",
      "           0       0.87      0.86      0.86        77\n",
      "           1       0.89      0.57      0.70        14\n",
      "           2       0.95      1.00      0.97       242\n",
      "           3       1.00      0.62      0.76        13\n",
      "\n",
      "    accuracy                           0.93       346\n",
      "   macro avg       0.93      0.76      0.82       346\n",
      "weighted avg       0.93      0.93      0.93       346\n",
      "\n"
     ]
    }
   ],
   "source": [
    "#5️ K-최근접 이웃 (K-Nearest Neighbors, KNN)\n",
    "from sklearn.neighbors import KNeighborsClassifier\n",
    "\n",
    "# 모델 생성 및 학습\n",
    "model_knn = KNeighborsClassifier(n_neighbors=5)\n",
    "model_knn.fit(X_train, y_train)\n",
    "\n",
    "# 예측 및 평가\n",
    "y_pred_knn = model_knn.predict(X_test)\n",
    "acc_knn = accuracy_score(y_test, y_pred_knn)\n",
    "\n",
    "print(\"\\n[K-최근접 이웃]\")\n",
    "print(f\"정확도: {acc_knn:.4f}\")\n",
    "print(classification_report(y_test, y_pred_knn))"
   ]
  }
 ],
 "metadata": {
  "kernelspec": {
   "display_name": "Python 3 (ipykernel)",
   "language": "python",
   "name": "python3"
  },
  "language_info": {
   "codemirror_mode": {
    "name": "ipython",
    "version": 3
   },
   "file_extension": ".py",
   "mimetype": "text/x-python",
   "name": "python",
   "nbconvert_exporter": "python",
   "pygments_lexer": "ipython3",
   "version": "3.12.7"
  }
 },
 "nbformat": 4,
 "nbformat_minor": 5
}
