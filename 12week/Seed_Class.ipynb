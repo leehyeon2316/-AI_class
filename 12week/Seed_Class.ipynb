{
 "cells": [
  {
   "cell_type": "code",
   "execution_count": 19,
   "id": "ea7facaf-f1fd-4328-8d7f-02bd2f819d4b",
   "metadata": {},
   "outputs": [],
   "source": [
    "# Model 클래스 상속"
   ]
  },
  {
   "cell_type": "code",
   "execution_count": 20,
   "id": "d2aabb5b-7696-44e6-98c8-996c0013f8a0",
   "metadata": {},
   "outputs": [],
   "source": [
    "import pandas as pd\n",
    "import tensorflow as tf\n",
    "from tensorflow.keras import Model\n",
    "from tensorflow.keras.layers import Dense\n",
    "from sklearn.model_selection import train_test_split\n",
    "from sklearn.preprocessing import StandardScaler\n",
    "import numpy as np\n",
    "from sklearn.metrics import classification_report, confusion_matrix\n"
   ]
  },
  {
   "cell_type": "code",
   "execution_count": 21,
   "id": "1c768cb0-8c67-4c56-8e6a-2e93ef40e785",
   "metadata": {},
   "outputs": [],
   "source": [
    "# 1) 컬럼명 정의 (마지막이 레이블 target)\n",
    "cols = [\n",
    "    \"area\", \"perimeter\", \"compactness\",\n",
    "    \"length\", \"width\", \"asymmetry\", \"groove_length\",\n",
    "    \"target\"\n",
    "]\n",
    "\n",
    "# 2) 데이터 로드\n",
    "df = pd.read_csv('./seeds_dataset.txt', sep=r'\\s+', names=cols)\n"
   ]
  },
  {
   "cell_type": "code",
   "execution_count": 22,
   "id": "445c146d-eb0a-4593-b2e8-b07807cf0cf8",
   "metadata": {},
   "outputs": [],
   "source": [
    "# 3) 특성과 레이블 분리\n",
    "X = df.drop(\"target\", axis=1).values      # (210, 7)\n",
    "y = df[\"target\"].values - 1               # 1,2,3 → 0,1,2"
   ]
  },
  {
   "cell_type": "code",
   "execution_count": 23,
   "id": "295e4501-8094-471d-b400-7986cc596797",
   "metadata": {},
   "outputs": [],
   "source": [
    "# 4) 학습/테스트 셋 분리\n",
    "X_train, X_test, y_train, y_test = train_test_split(\n",
    "    X, y,\n",
    "    test_size=0.2,\n",
    "    random_state=42,\n",
    "    stratify=y\n",
    ")\n"
   ]
  },
  {
   "cell_type": "code",
   "execution_count": 24,
   "id": "0f77f5cc-13af-483d-8a04-317516d15066",
   "metadata": {},
   "outputs": [],
   "source": [
    "# 5) 특성 스케일링\n",
    "scaler = StandardScaler()\n",
    "X_train = scaler.fit_transform(X_train)\n",
    "X_test  = scaler.transform(X_test)"
   ]
  },
  {
   "cell_type": "code",
   "execution_count": 25,
   "id": "a106b462-66ba-4350-ab72-76c3067292d0",
   "metadata": {},
   "outputs": [],
   "source": [
    "# 6) 텐서로 변환\n",
    "X_train = tf.convert_to_tensor(X_train, dtype=tf.float32)\n",
    "y_train = tf.convert_to_tensor(y_train, dtype=tf.int32)\n",
    "X_test  = tf.convert_to_tensor(X_test,  dtype=tf.float32)\n",
    "y_test  = tf.convert_to_tensor(y_test,  dtype=tf.int32)\n"
   ]
  },
  {
   "cell_type": "code",
   "execution_count": 26,
   "id": "c650aeab-33b5-495b-9ed4-a5071bcf6056",
   "metadata": {},
   "outputs": [],
   "source": [
    "# 7) Model 서브클래싱 정의\n",
    "class SimpleMLP(Model):\n",
    "    def __init__(self, num_classes):\n",
    "        super(SimpleMLP, self).__init__(name='mlp')\n",
    "        # 은닉층: 32 유닛, sigmoid\n",
    "        self.dense1 = Dense(32, activation='sigmoid', name=\"hidden1\")\n",
    "        # 출력층: num_classes 유닛, softmax (다중 분류)\n",
    "        self.dense2 = Dense(num_classes, activation='softmax', name=\"output\")\n",
    "\n",
    "    def call(self, inputs):\n",
    "        x = self.dense1(inputs)\n",
    "        return self.dense2(x)"
   ]
  },
  {
   "cell_type": "code",
   "execution_count": 27,
   "id": "2ba9fcaa-b26d-469a-999b-8a0e33653ef1",
   "metadata": {},
   "outputs": [],
   "source": [
    "# 8) 모델 생성\n",
    "model_sub = SimpleMLP(num_classes=3)\n"
   ]
  },
  {
   "cell_type": "code",
   "execution_count": 28,
   "id": "e9d9f26c-fc30-42ec-a0cc-8f3b9391d072",
   "metadata": {},
   "outputs": [],
   "source": [
    "# 9) 컴파일\n",
    "model_sub.compile(\n",
    "    optimizer='adam',\n",
    "    loss='sparse_categorical_crossentropy',\n",
    "    metrics=['accuracy']\n",
    ")"
   ]
  },
  {
   "cell_type": "code",
   "execution_count": 29,
   "id": "8058665e-3a83-4ad2-8830-79e6d2e08692",
   "metadata": {},
   "outputs": [
    {
     "name": "stdout",
     "output_type": "stream",
     "text": [
      "Epoch 1/30\n",
      "\u001b[1m9/9\u001b[0m \u001b[32m━━━━━━━━━━━━━━━━━━━━\u001b[0m\u001b[37m\u001b[0m \u001b[1m3s\u001b[0m 89ms/step - accuracy: 0.3550 - loss: 1.0591 - val_accuracy: 0.2353 - val_loss: 1.0563\n",
      "Epoch 2/30\n",
      "\u001b[1m9/9\u001b[0m \u001b[32m━━━━━━━━━━━━━━━━━━━━\u001b[0m\u001b[37m\u001b[0m \u001b[1m1s\u001b[0m 41ms/step - accuracy: 0.3620 - loss: 0.9955 - val_accuracy: 0.3235 - val_loss: 0.9716\n",
      "Epoch 3/30\n",
      "\u001b[1m9/9\u001b[0m \u001b[32m━━━━━━━━━━━━━━━━━━━━\u001b[0m\u001b[37m\u001b[0m \u001b[1m1s\u001b[0m 29ms/step - accuracy: 0.4831 - loss: 0.9500 - val_accuracy: 0.6176 - val_loss: 0.9040\n",
      "Epoch 4/30\n",
      "\u001b[1m9/9\u001b[0m \u001b[32m━━━━━━━━━━━━━━━━━━━━\u001b[0m\u001b[37m\u001b[0m \u001b[1m0s\u001b[0m 33ms/step - accuracy: 0.5983 - loss: 0.9061 - val_accuracy: 0.8235 - val_loss: 0.8540\n",
      "Epoch 5/30\n",
      "\u001b[1m9/9\u001b[0m \u001b[32m━━━━━━━━━━━━━━━━━━━━\u001b[0m\u001b[37m\u001b[0m \u001b[1m1s\u001b[0m 29ms/step - accuracy: 0.7490 - loss: 0.8604 - val_accuracy: 0.8529 - val_loss: 0.8093\n",
      "Epoch 6/30\n",
      "\u001b[1m9/9\u001b[0m \u001b[32m━━━━━━━━━━━━━━━━━━━━\u001b[0m\u001b[37m\u001b[0m \u001b[1m0s\u001b[0m 28ms/step - accuracy: 0.8165 - loss: 0.8321 - val_accuracy: 0.9412 - val_loss: 0.7702\n",
      "Epoch 7/30\n",
      "\u001b[1m9/9\u001b[0m \u001b[32m━━━━━━━━━━━━━━━━━━━━\u001b[0m\u001b[37m\u001b[0m \u001b[1m0s\u001b[0m 32ms/step - accuracy: 0.9055 - loss: 0.8030 - val_accuracy: 0.9118 - val_loss: 0.7372\n",
      "Epoch 8/30\n",
      "\u001b[1m9/9\u001b[0m \u001b[32m━━━━━━━━━━━━━━━━━━━━\u001b[0m\u001b[37m\u001b[0m \u001b[1m0s\u001b[0m 42ms/step - accuracy: 0.9202 - loss: 0.7864 - val_accuracy: 0.9118 - val_loss: 0.7091\n",
      "Epoch 9/30\n",
      "\u001b[1m9/9\u001b[0m \u001b[32m━━━━━━━━━━━━━━━━━━━━\u001b[0m\u001b[37m\u001b[0m \u001b[1m0s\u001b[0m 30ms/step - accuracy: 0.9212 - loss: 0.7304 - val_accuracy: 0.9118 - val_loss: 0.6820\n",
      "Epoch 10/30\n",
      "\u001b[1m9/9\u001b[0m \u001b[32m━━━━━━━━━━━━━━━━━━━━\u001b[0m\u001b[37m\u001b[0m \u001b[1m0s\u001b[0m 31ms/step - accuracy: 0.9172 - loss: 0.7193 - val_accuracy: 0.9118 - val_loss: 0.6602\n",
      "Epoch 11/30\n",
      "\u001b[1m9/9\u001b[0m \u001b[32m━━━━━━━━━━━━━━━━━━━━\u001b[0m\u001b[37m\u001b[0m \u001b[1m0s\u001b[0m 27ms/step - accuracy: 0.9281 - loss: 0.7020 - val_accuracy: 0.8824 - val_loss: 0.6359\n",
      "Epoch 12/30\n",
      "\u001b[1m9/9\u001b[0m \u001b[32m━━━━━━━━━━━━━━━━━━━━\u001b[0m\u001b[37m\u001b[0m \u001b[1m0s\u001b[0m 30ms/step - accuracy: 0.9155 - loss: 0.6755 - val_accuracy: 0.8824 - val_loss: 0.6157\n",
      "Epoch 13/30\n",
      "\u001b[1m9/9\u001b[0m \u001b[32m━━━━━━━━━━━━━━━━━━━━\u001b[0m\u001b[37m\u001b[0m \u001b[1m0s\u001b[0m 30ms/step - accuracy: 0.9049 - loss: 0.6522 - val_accuracy: 0.8824 - val_loss: 0.5970\n",
      "Epoch 14/30\n",
      "\u001b[1m9/9\u001b[0m \u001b[32m━━━━━━━━━━━━━━━━━━━━\u001b[0m\u001b[37m\u001b[0m \u001b[1m0s\u001b[0m 27ms/step - accuracy: 0.9182 - loss: 0.6431 - val_accuracy: 0.8824 - val_loss: 0.5772\n",
      "Epoch 15/30\n",
      "\u001b[1m9/9\u001b[0m \u001b[32m━━━━━━━━━━━━━━━━━━━━\u001b[0m\u001b[37m\u001b[0m \u001b[1m0s\u001b[0m 30ms/step - accuracy: 0.9158 - loss: 0.5966 - val_accuracy: 0.8824 - val_loss: 0.5614\n",
      "Epoch 16/30\n",
      "\u001b[1m9/9\u001b[0m \u001b[32m━━━━━━━━━━━━━━━━━━━━\u001b[0m\u001b[37m\u001b[0m \u001b[1m0s\u001b[0m 29ms/step - accuracy: 0.8979 - loss: 0.5906 - val_accuracy: 0.8824 - val_loss: 0.5449\n",
      "Epoch 17/30\n",
      "\u001b[1m9/9\u001b[0m \u001b[32m━━━━━━━━━━━━━━━━━━━━\u001b[0m\u001b[37m\u001b[0m \u001b[1m0s\u001b[0m 28ms/step - accuracy: 0.9250 - loss: 0.5752 - val_accuracy: 0.8824 - val_loss: 0.5325\n",
      "Epoch 18/30\n",
      "\u001b[1m9/9\u001b[0m \u001b[32m━━━━━━━━━━━━━━━━━━━━\u001b[0m\u001b[37m\u001b[0m \u001b[1m0s\u001b[0m 42ms/step - accuracy: 0.9319 - loss: 0.5442 - val_accuracy: 0.8824 - val_loss: 0.5144\n",
      "Epoch 19/30\n",
      "\u001b[1m9/9\u001b[0m \u001b[32m━━━━━━━━━━━━━━━━━━━━\u001b[0m\u001b[37m\u001b[0m \u001b[1m0s\u001b[0m 32ms/step - accuracy: 0.9077 - loss: 0.5438 - val_accuracy: 0.8824 - val_loss: 0.5009\n",
      "Epoch 20/30\n",
      "\u001b[1m9/9\u001b[0m \u001b[32m━━━━━━━━━━━━━━━━━━━━\u001b[0m\u001b[37m\u001b[0m \u001b[1m0s\u001b[0m 32ms/step - accuracy: 0.9110 - loss: 0.5277 - val_accuracy: 0.8824 - val_loss: 0.4840\n",
      "Epoch 21/30\n",
      "\u001b[1m9/9\u001b[0m \u001b[32m━━━━━━━━━━━━━━━━━━━━\u001b[0m\u001b[37m\u001b[0m \u001b[1m0s\u001b[0m 30ms/step - accuracy: 0.8929 - loss: 0.5327 - val_accuracy: 0.9118 - val_loss: 0.4688\n",
      "Epoch 22/30\n",
      "\u001b[1m9/9\u001b[0m \u001b[32m━━━━━━━━━━━━━━━━━━━━\u001b[0m\u001b[37m\u001b[0m \u001b[1m0s\u001b[0m 30ms/step - accuracy: 0.9237 - loss: 0.4909 - val_accuracy: 0.9118 - val_loss: 0.4569\n",
      "Epoch 23/30\n",
      "\u001b[1m9/9\u001b[0m \u001b[32m━━━━━━━━━━━━━━━━━━━━\u001b[0m\u001b[37m\u001b[0m \u001b[1m0s\u001b[0m 28ms/step - accuracy: 0.9015 - loss: 0.4925 - val_accuracy: 0.9118 - val_loss: 0.4478\n",
      "Epoch 24/30\n",
      "\u001b[1m9/9\u001b[0m \u001b[32m━━━━━━━━━━━━━━━━━━━━\u001b[0m\u001b[37m\u001b[0m \u001b[1m0s\u001b[0m 30ms/step - accuracy: 0.8946 - loss: 0.4899 - val_accuracy: 0.9118 - val_loss: 0.4388\n",
      "Epoch 25/30\n",
      "\u001b[1m9/9\u001b[0m \u001b[32m━━━━━━━━━━━━━━━━━━━━\u001b[0m\u001b[37m\u001b[0m \u001b[1m0s\u001b[0m 32ms/step - accuracy: 0.9279 - loss: 0.4635 - val_accuracy: 0.9118 - val_loss: 0.4267\n",
      "Epoch 26/30\n",
      "\u001b[1m9/9\u001b[0m \u001b[32m━━━━━━━━━━━━━━━━━━━━\u001b[0m\u001b[37m\u001b[0m \u001b[1m0s\u001b[0m 26ms/step - accuracy: 0.9065 - loss: 0.4631 - val_accuracy: 0.9118 - val_loss: 0.4165\n",
      "Epoch 27/30\n",
      "\u001b[1m9/9\u001b[0m \u001b[32m━━━━━━━━━━━━━━━━━━━━\u001b[0m\u001b[37m\u001b[0m \u001b[1m0s\u001b[0m 24ms/step - accuracy: 0.9161 - loss: 0.4268 - val_accuracy: 0.9118 - val_loss: 0.4067\n",
      "Epoch 28/30\n",
      "\u001b[1m9/9\u001b[0m \u001b[32m━━━━━━━━━━━━━━━━━━━━\u001b[0m\u001b[37m\u001b[0m \u001b[1m0s\u001b[0m 28ms/step - accuracy: 0.9151 - loss: 0.4205 - val_accuracy: 0.9118 - val_loss: 0.3991\n",
      "Epoch 29/30\n",
      "\u001b[1m9/9\u001b[0m \u001b[32m━━━━━━━━━━━━━━━━━━━━\u001b[0m\u001b[37m\u001b[0m \u001b[1m0s\u001b[0m 30ms/step - accuracy: 0.9226 - loss: 0.4219 - val_accuracy: 0.9118 - val_loss: 0.3900\n",
      "Epoch 30/30\n",
      "\u001b[1m9/9\u001b[0m \u001b[32m━━━━━━━━━━━━━━━━━━━━\u001b[0m\u001b[37m\u001b[0m \u001b[1m0s\u001b[0m 29ms/step - accuracy: 0.9147 - loss: 0.4141 - val_accuracy: 0.9412 - val_loss: 0.3836\n"
     ]
    }
   ],
   "source": [
    "# 10) 학습\n",
    "history = model_sub.fit(\n",
    "    X_train, y_train,\n",
    "    validation_split=0.2,\n",
    "    epochs=30,\n",
    "    batch_size=16,\n",
    "    verbose=1\n",
    ")"
   ]
  },
  {
   "cell_type": "code",
   "execution_count": 30,
   "id": "a9b40640-0fe0-4e53-962d-16d69fb6fce4",
   "metadata": {},
   "outputs": [
    {
     "name": "stdout",
     "output_type": "stream",
     "text": [
      "테스트 데이터 정확도: 0.8810\n"
     ]
    }
   ],
   "source": [
    "# 11) 평가\n",
    "loss, acc = model_sub.evaluate(X_test, y_test, verbose=0)\n",
    "print(f\"테스트 데이터 정확도: {acc:.4f}\")\n"
   ]
  },
  {
   "cell_type": "code",
   "execution_count": 35,
   "id": "467825e1-bed7-4290-a742-4d6f4124f4b1",
   "metadata": {},
   "outputs": [
    {
     "name": "stdout",
     "output_type": "stream",
     "text": [
      ">>> 전체 손실(loss): 0.4255\n",
      ">>> 전체 정확도(accuracy): 0.8810\n",
      "\n",
      "=== Classification Report ===\n",
      "              precision    recall  f1-score   support\n",
      "\n",
      "           0     1.0000    0.6429    0.7826        14\n",
      "           1     0.8750    1.0000    0.9333        14\n",
      "           2     0.8235    1.0000    0.9032        14\n",
      "\n",
      "    accuracy                         0.8810        42\n",
      "   macro avg     0.8995    0.8810    0.8731        42\n",
      "weighted avg     0.8995    0.8810    0.8731        42\n",
      "\n",
      "=== Confusion Matrix ===\n",
      "[[ 9  2  3]\n",
      " [ 0 14  0]\n",
      " [ 0  0 14]]\n"
     ]
    },
    {
     "data": {
      "image/png": "[encoded data removed]",
      "text/plain": [
       "<Figure size 500x500 with 2 Axes>"
      ]
     },
     "metadata": {},
     "output_type": "display_data"
    }
   ],
   "source": [
    "\n",
    "# 1) 기본 평가: loss, accuracy\n",
    "loss, acc = model_sub.evaluate(X_test, y_test, verbose=0)\n",
    "print(f\">>> 전체 손실(loss): {loss:.4f}\")\n",
    "print(f\">>> 전체 정확도(accuracy): {acc:.4f}\")\n",
    "\n",
    "# 2) 예측 수행: 확률 → 클래스 라벨\n",
    "y_prob = model_sub.predict(X_test, verbose=0)         # shape: (N, 3)\n",
    "y_pred = np.argmax(y_prob, axis=1)                # 가장 높은 확률 인덱스를 예측 클래스라벨로\n",
    "\n",
    "# 3) 클래스별 리포트 출력\n",
    "#    - precision, recall, f1-score, support(샘플 수)\n",
    "print(\"\\n=== Classification Report ===\")\n",
    "print(classification_report(y_test, y_pred, digits=4))\n",
    "\n",
    "# 4) 혼동 행렬 출력\n",
    "print(\"=== Confusion Matrix ===\")\n",
    "cm = confusion_matrix(y_test, y_pred)\n",
    "print(cm)\n",
    "\n",
    "# 5) (선택) 혼동 행렬을 시각화하려면 matplotlib만 사용\n",
    "import matplotlib.pyplot as plt\n",
    "\n",
    "fig, ax = plt.subplots(figsize=(5,5))\n",
    "im = ax.imshow(cm, interpolation='nearest', cmap=plt.cm.Blues)\n",
    "ax.set(\n",
    "    xticks=np.arange(cm.shape[1]),\n",
    "    yticks=np.arange(cm.shape[0]),\n",
    "    xticklabels=[0,1,2],    # 클래스 라벨\n",
    "    yticklabels=[0,1,2],\n",
    "    ylabel='True label',\n",
    "    xlabel='Predicted label',\n",
    "    title='Confusion Matrix'\n",
    ")\n",
    "plt.colorbar(im, ax=ax)\n",
    "# 각 셀에 숫자 표시\n",
    "thresh = cm.max() / 2.\n",
    "for i in range(cm.shape[0]):\n",
    "    for j in range(cm.shape[1]):\n",
    "        ax.text(j, i, format(cm[i, j], 'd'),\n",
    "                ha=\"center\", va=\"center\",\n",
    "                color=\"white\" if cm[i, j] > thresh else \"black\")\n",
    "plt.show()"
   ]
  }
 ],
 "metadata": {
  "kernelspec": {
   "display_name": "Python 3 (ipykernel)",
   "language": "python",
   "name": "python3"
  },
  "language_info": {
   "codemirror_mode": {
    "name": "ipython",
    "version": 3
   },
   "file_extension": ".py",
   "mimetype": "text/x-python",
   "name": "python",
   "nbconvert_exporter": "python",
   "pygments_lexer": "ipython3",
   "version": "3.12.7"
  }
 },
 "nbformat": 4,
 "nbformat_minor": 5
}
