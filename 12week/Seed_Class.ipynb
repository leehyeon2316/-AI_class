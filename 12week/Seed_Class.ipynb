{
 "cells": [
  {
   "cell_type": "code",
   "execution_count": 19,
   "id": "ea7facaf-f1fd-4328-8d7f-02bd2f819d4b",
   "metadata": {},
   "outputs": [],
   "source": [
    "# Model 클래스 상속"
   ]
  },
  {
   "cell_type": "code",
   "execution_count": 20,
   "id": "d2aabb5b-7696-44e6-98c8-996c0013f8a0",
   "metadata": {},
   "outputs": [],
   "source": [
    "import pandas as pd\n",
    "import tensorflow as tf\n",
    "from tensorflow.keras import Model\n",
    "from tensorflow.keras.layers import Dense\n",
    "from sklearn.model_selection import train_test_split\n",
    "from sklearn.preprocessing import StandardScaler\n"
   ]
  },
  {
   "cell_type": "code",
   "execution_count": 21,
   "id": "1c768cb0-8c67-4c56-8e6a-2e93ef40e785",
   "metadata": {},
   "outputs": [],
   "source": [
    "# 1) 컬럼명 정의 (마지막이 레이블 target)\n",
    "cols = [\n",
    "    \"area\", \"perimeter\", \"compactness\",\n",
    "    \"length\", \"width\", \"asymmetry\", \"groove_length\",\n",
    "    \"target\"\n",
    "]\n",
    "\n",
    "# 2) 데이터 로드\n",
    "df = pd.read_csv('./seeds_dataset.txt', sep=r'\\s+', names=cols)\n"
   ]
  },
  {
   "cell_type": "code",
   "execution_count": 22,
   "id": "445c146d-eb0a-4593-b2e8-b07807cf0cf8",
   "metadata": {},
   "outputs": [],
   "source": [
    "# 3) 특성과 레이블 분리\n",
    "X = df.drop(\"target\", axis=1).values      # (210, 7)\n",
    "y = df[\"target\"].values - 1               # 1,2,3 → 0,1,2"
   ]
  },
  {
   "cell_type": "code",
   "execution_count": 23,
   "id": "295e4501-8094-471d-b400-7986cc596797",
   "metadata": {},
   "outputs": [],
   "source": [
    "# 4) 학습/테스트 셋 분리\n",
    "X_train, X_test, y_train, y_test = train_test_split(\n",
    "    X, y,\n",
    "    test_size=0.2,\n",
    "    random_state=42,\n",
    "    stratify=y\n",
    ")\n"
   ]
  },
  {
   "cell_type": "code",
   "execution_count": 24,
   "id": "0f77f5cc-13af-483d-8a04-317516d15066",
   "metadata": {},
   "outputs": [],
   "source": [
    "# 5) 특성 스케일링\n",
    "scaler = StandardScaler()\n",
    "X_train = scaler.fit_transform(X_train)\n",
    "X_test  = scaler.transform(X_test)"
   ]
  },
  {
   "cell_type": "code",
   "execution_count": 25,
   "id": "a106b462-66ba-4350-ab72-76c3067292d0",
   "metadata": {},
   "outputs": [],
   "source": [
    "# 6) 텐서로 변환\n",
    "X_train = tf.convert_to_tensor(X_train, dtype=tf.float32)\n",
    "y_train = tf.convert_to_tensor(y_train, dtype=tf.int32)\n",
    "X_test  = tf.convert_to_tensor(X_test,  dtype=tf.float32)\n",
    "y_test  = tf.convert_to_tensor(y_test,  dtype=tf.int32)\n"
   ]
  },
  {
   "cell_type": "code",
   "execution_count": 26,
   "id": "c650aeab-33b5-495b-9ed4-a5071bcf6056",
   "metadata": {},
   "outputs": [],
   "source": [
    "# 7) Model 서브클래싱 정의\n",
    "class SimpleMLP(Model):\n",
    "    def __init__(self, num_classes):\n",
    "        super(SimpleMLP, self).__init__(name='mlp')\n",
    "        # 은닉층: 32 유닛, sigmoid\n",
    "        self.dense1 = Dense(32, activation='sigmoid', name=\"hidden1\")\n",
    "        # 출력층: num_classes 유닛, softmax (다중 분류)\n",
    "        self.dense2 = Dense(num_classes, activation='softmax', name=\"output\")\n",
    "\n",
    "    def call(self, inputs):\n",
    "        x = self.dense1(inputs)\n",
    "        return self.dense2(x)"
   ]
  },
  {
   "cell_type": "code",
   "execution_count": 27,
   "id": "2ba9fcaa-b26d-469a-999b-8a0e33653ef1",
   "metadata": {},
   "outputs": [],
   "source": [
    "# 8) 모델 생성\n",
    "model_sub = SimpleMLP(num_classes=3)\n"
   ]
  },
  {
   "cell_type": "code",
   "execution_count": 28,
   "id": "e9d9f26c-fc30-42ec-a0cc-8f3b9391d072",
   "metadata": {},
   "outputs": [],
   "source": [
    "# 9) 컴파일\n",
    "model_sub.compile(\n",
    "    optimizer='adam',\n",
    "    loss='sparse_categorical_crossentropy',\n",
    "    metrics=['accuracy']\n",
    ")"
   ]
  },
  {
   "cell_type": "code",
   "execution_count": 29,
   "id": "8058665e-3a83-4ad2-8830-79e6d2e08692",
   "metadata": {},
   "outputs": [
    {
     "name": "stdout",
     "output_type": "stream",
     "text": [
      "Epoch 1/30\n",
      "\u001b[1m9/9\u001b[0m \u001b[32m━━━━━━━━━━━━━━━━━━━━\u001b[0m\u001b[37m\u001b[0m \u001b[1m2s\u001b[0m 77ms/step - accuracy: 0.3618 - loss: 1.0492 - val_accuracy: 0.4412 - val_loss: 1.0493\n",
      "Epoch 2/30\n",
      "\u001b[1m9/9\u001b[0m \u001b[32m━━━━━━━━━━━━━━━━━━━━\u001b[0m\u001b[37m\u001b[0m \u001b[1m0s\u001b[0m 22ms/step - accuracy: 0.4960 - loss: 1.0115 - val_accuracy: 0.5882 - val_loss: 0.9821\n",
      "Epoch 3/30\n",
      "\u001b[1m9/9\u001b[0m \u001b[32m━━━━━━━━━━━━━━━━━━━━\u001b[0m\u001b[37m\u001b[0m \u001b[1m0s\u001b[0m 28ms/step - accuracy: 0.7714 - loss: 0.9307 - val_accuracy: 0.6765 - val_loss: 0.9250\n",
      "Epoch 4/30\n",
      "\u001b[1m9/9\u001b[0m \u001b[32m━━━━━━━━━━━━━━━━━━━━\u001b[0m\u001b[37m\u001b[0m \u001b[1m0s\u001b[0m 33ms/step - accuracy: 0.8547 - loss: 0.8784 - val_accuracy: 0.7353 - val_loss: 0.8759\n",
      "Epoch 5/30\n",
      "\u001b[1m9/9\u001b[0m \u001b[32m━━━━━━━━━━━━━━━━━━━━\u001b[0m\u001b[37m\u001b[0m \u001b[1m1s\u001b[0m 40ms/step - accuracy: 0.9006 - loss: 0.8316 - val_accuracy: 0.8235 - val_loss: 0.8319\n",
      "Epoch 6/30\n",
      "\u001b[1m9/9\u001b[0m \u001b[32m━━━━━━━━━━━━━━━━━━━━\u001b[0m\u001b[37m\u001b[0m \u001b[1m1s\u001b[0m 31ms/step - accuracy: 0.8657 - loss: 0.8041 - val_accuracy: 0.9118 - val_loss: 0.7848\n",
      "Epoch 7/30\n",
      "\u001b[1m9/9\u001b[0m \u001b[32m━━━━━━━━━━━━━━━━━━━━\u001b[0m\u001b[37m\u001b[0m \u001b[1m1s\u001b[0m 46ms/step - accuracy: 0.9045 - loss: 0.7741 - val_accuracy: 0.9118 - val_loss: 0.7449\n",
      "Epoch 8/30\n",
      "\u001b[1m9/9\u001b[0m \u001b[32m━━━━━━━━━━━━━━━━━━━━\u001b[0m\u001b[37m\u001b[0m \u001b[1m1s\u001b[0m 69ms/step - accuracy: 0.8393 - loss: 0.7549 - val_accuracy: 0.9118 - val_loss: 0.7078\n",
      "Epoch 9/30\n",
      "\u001b[1m9/9\u001b[0m \u001b[32m━━━━━━━━━━━━━━━━━━━━\u001b[0m\u001b[37m\u001b[0m \u001b[1m1s\u001b[0m 61ms/step - accuracy: 0.9015 - loss: 0.6954 - val_accuracy: 0.9118 - val_loss: 0.6813\n",
      "Epoch 10/30\n",
      "\u001b[1m9/9\u001b[0m \u001b[32m━━━━━━━━━━━━━━━━━━━━\u001b[0m\u001b[37m\u001b[0m \u001b[1m0s\u001b[0m 19ms/step - accuracy: 0.9065 - loss: 0.6556 - val_accuracy: 0.9118 - val_loss: 0.6545\n",
      "Epoch 11/30\n",
      "\u001b[1m9/9\u001b[0m \u001b[32m━━━━━━━━━━━━━━━━━━━━\u001b[0m\u001b[37m\u001b[0m \u001b[1m0s\u001b[0m 39ms/step - accuracy: 0.8993 - loss: 0.6361 - val_accuracy: 0.9118 - val_loss: 0.6296\n",
      "Epoch 12/30\n",
      "\u001b[1m9/9\u001b[0m \u001b[32m━━━━━━━━━━━━━━━━━━━━\u001b[0m\u001b[37m\u001b[0m \u001b[1m1s\u001b[0m 58ms/step - accuracy: 0.9176 - loss: 0.6029 - val_accuracy: 0.9118 - val_loss: 0.6093\n",
      "Epoch 13/30\n",
      "\u001b[1m9/9\u001b[0m \u001b[32m━━━━━━━━━━━━━━━━━━━━\u001b[0m\u001b[37m\u001b[0m \u001b[1m1s\u001b[0m 97ms/step - accuracy: 0.9003 - loss: 0.6259 - val_accuracy: 0.9118 - val_loss: 0.5876\n",
      "Epoch 14/30\n",
      "\u001b[1m9/9\u001b[0m \u001b[32m━━━━━━━━━━━━━━━━━━━━\u001b[0m\u001b[37m\u001b[0m \u001b[1m1s\u001b[0m 30ms/step - accuracy: 0.8945 - loss: 0.5866 - val_accuracy: 0.9118 - val_loss: 0.5680\n",
      "Epoch 15/30\n",
      "\u001b[1m9/9\u001b[0m \u001b[32m━━━━━━━━━━━━━━━━━━━━\u001b[0m\u001b[37m\u001b[0m \u001b[1m0s\u001b[0m 19ms/step - accuracy: 0.9012 - loss: 0.5538 - val_accuracy: 0.9118 - val_loss: 0.5489\n",
      "Epoch 16/30\n",
      "\u001b[1m9/9\u001b[0m \u001b[32m━━━━━━━━━━━━━━━━━━━━\u001b[0m\u001b[37m\u001b[0m \u001b[1m1s\u001b[0m 68ms/step - accuracy: 0.8961 - loss: 0.5424 - val_accuracy: 0.9118 - val_loss: 0.5337\n",
      "Epoch 17/30\n",
      "\u001b[1m9/9\u001b[0m \u001b[32m━━━━━━━━━━━━━━━━━━━━\u001b[0m\u001b[37m\u001b[0m \u001b[1m1s\u001b[0m 33ms/step - accuracy: 0.9085 - loss: 0.5208 - val_accuracy: 0.9118 - val_loss: 0.5153\n",
      "Epoch 18/30\n",
      "\u001b[1m9/9\u001b[0m \u001b[32m━━━━━━━━━━━━━━━━━━━━\u001b[0m\u001b[37m\u001b[0m \u001b[1m0s\u001b[0m 43ms/step - accuracy: 0.8624 - loss: 0.5234 - val_accuracy: 0.9118 - val_loss: 0.4969\n",
      "Epoch 19/30\n",
      "\u001b[1m9/9\u001b[0m \u001b[32m━━━━━━━━━━━━━━━━━━━━\u001b[0m\u001b[37m\u001b[0m \u001b[1m0s\u001b[0m 18ms/step - accuracy: 0.9068 - loss: 0.4984 - val_accuracy: 0.9118 - val_loss: 0.4824\n",
      "Epoch 20/30\n",
      "\u001b[1m9/9\u001b[0m \u001b[32m━━━━━━━━━━━━━━━━━━━━\u001b[0m\u001b[37m\u001b[0m \u001b[1m0s\u001b[0m 53ms/step - accuracy: 0.8882 - loss: 0.4981 - val_accuracy: 0.9118 - val_loss: 0.4682\n",
      "Epoch 21/30\n",
      "\u001b[1m9/9\u001b[0m \u001b[32m━━━━━━━━━━━━━━━━━━━━\u001b[0m\u001b[37m\u001b[0m \u001b[1m1s\u001b[0m 67ms/step - accuracy: 0.9023 - loss: 0.4713 - val_accuracy: 0.9118 - val_loss: 0.4570\n",
      "Epoch 22/30\n",
      "\u001b[1m9/9\u001b[0m \u001b[32m━━━━━━━━━━━━━━━━━━━━\u001b[0m\u001b[37m\u001b[0m \u001b[1m1s\u001b[0m 18ms/step - accuracy: 0.9116 - loss: 0.4503 - val_accuracy: 0.9118 - val_loss: 0.4448\n",
      "Epoch 23/30\n",
      "\u001b[1m9/9\u001b[0m \u001b[32m━━━━━━━━━━━━━━━━━━━━\u001b[0m\u001b[37m\u001b[0m \u001b[1m0s\u001b[0m 38ms/step - accuracy: 0.9131 - loss: 0.4516 - val_accuracy: 0.9118 - val_loss: 0.4342\n",
      "Epoch 24/30\n",
      "\u001b[1m9/9\u001b[0m \u001b[32m━━━━━━━━━━━━━━━━━━━━\u001b[0m\u001b[37m\u001b[0m \u001b[1m0s\u001b[0m 42ms/step - accuracy: 0.9074 - loss: 0.4398 - val_accuracy: 0.9118 - val_loss: 0.4222\n",
      "Epoch 25/30\n",
      "\u001b[1m9/9\u001b[0m \u001b[32m━━━━━━━━━━━━━━━━━━━━\u001b[0m\u001b[37m\u001b[0m \u001b[1m1s\u001b[0m 70ms/step - accuracy: 0.9004 - loss: 0.4320 - val_accuracy: 0.9118 - val_loss: 0.4125\n",
      "Epoch 26/30\n",
      "\u001b[1m9/9\u001b[0m \u001b[32m━━━━━━━━━━━━━━━━━━━━\u001b[0m\u001b[37m\u001b[0m \u001b[1m1s\u001b[0m 28ms/step - accuracy: 0.9189 - loss: 0.4161 - val_accuracy: 0.9118 - val_loss: 0.4033\n",
      "Epoch 27/30\n",
      "\u001b[1m9/9\u001b[0m \u001b[32m━━━━━━━━━━━━━━━━━━━━\u001b[0m\u001b[37m\u001b[0m \u001b[1m1s\u001b[0m 65ms/step - accuracy: 0.8921 - loss: 0.4298 - val_accuracy: 0.9118 - val_loss: 0.3955\n",
      "Epoch 28/30\n",
      "\u001b[1m9/9\u001b[0m \u001b[32m━━━━━━━━━━━━━━━━━━━━\u001b[0m\u001b[37m\u001b[0m \u001b[1m0s\u001b[0m 20ms/step - accuracy: 0.9299 - loss: 0.3930 - val_accuracy: 0.9412 - val_loss: 0.3883\n",
      "Epoch 29/30\n",
      "\u001b[1m9/9\u001b[0m \u001b[32m━━━━━━━━━━━━━━━━━━━━\u001b[0m\u001b[37m\u001b[0m \u001b[1m0s\u001b[0m 36ms/step - accuracy: 0.9205 - loss: 0.3898 - val_accuracy: 0.9412 - val_loss: 0.3796\n",
      "Epoch 30/30\n",
      "\u001b[1m9/9\u001b[0m \u001b[32m━━━━━━━━━━━━━━━━━━━━\u001b[0m\u001b[37m\u001b[0m \u001b[1m0s\u001b[0m 22ms/step - accuracy: 0.9147 - loss: 0.3976 - val_accuracy: 0.9412 - val_loss: 0.3714\n"
     ]
    }
   ],
   "source": [
    "# 10) 학습\n",
    "history = model_sub.fit(\n",
    "    X_train, y_train,\n",
    "    validation_split=0.2,\n",
    "    epochs=30,\n",
    "    batch_size=16,\n",
    "    verbose=1\n",
    ")"
   ]
  },
  {
   "cell_type": "code",
   "execution_count": 30,
   "id": "a9b40640-0fe0-4e53-962d-16d69fb6fce4",
   "metadata": {},
   "outputs": [
    {
     "name": "stdout",
     "output_type": "stream",
     "text": [
      "테스트 데이터 정확도: 0.8571\n"
     ]
    }
   ],
   "source": [
    "# 11) 평가\n",
    "loss, acc = model_sub.evaluate(X_test, y_test, verbose=0)\n",
    "print(f\"테스트 데이터 정확도: {acc:.4f}\")\n"
   ]
  }
 ],
 "metadata": {
  "kernelspec": {
   "display_name": "Python 3 (ipykernel)",
   "language": "python",
   "name": "python3"
  },
  "language_info": {
   "codemirror_mode": {
    "name": "ipython",
    "version": 3
   },
   "file_extension": ".py",
   "mimetype": "text/x-python",
   "name": "python",
   "nbconvert_exporter": "python",
   "pygments_lexer": "ipython3",
   "version": "3.12.7"
  }
 },
 "nbformat": 4,
 "nbformat_minor": 5
}
