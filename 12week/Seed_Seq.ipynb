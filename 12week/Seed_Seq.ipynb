{
 "cells": [
  {
   "cell_type": "code",
   "execution_count": 21,
   "id": "a2f091be-8690-4968-8567-e9862ef9dfad",
   "metadata": {},
   "outputs": [],
   "source": [
    "#Sequential 모댈을 만들고 모델에 필요한 레이어를 추가하는 방법"
   ]
  },
  {
   "cell_type": "code",
   "execution_count": 22,
   "id": "303bd62a-1c55-4b89-a9f9-e3a6311e488f",
   "metadata": {},
   "outputs": [],
   "source": [
    "import numpy as np\n",
    "import pandas as pd\n",
    "import tensorflow as tf\n",
    "from tensorflow.keras.models import Sequential\n",
    "from tensorflow.keras.layers import Dense\n",
    "from sklearn.model_selection import train_test_split\n",
    "from sklearn.preprocessing import StandardScaler\n",
    "import tensorflow as tf\n",
    "from tensorflow.keras.models import Sequential, Model\n",
    "from tensorflow.keras.layers import Input, Dense"
   ]
  },
  {
   "cell_type": "code",
   "execution_count": 23,
   "id": "432f11c6-deec-4948-aae9-88f7b8003992",
   "metadata": {},
   "outputs": [],
   "source": [
    "# 컬럼명 정의 (마지막이 레이블 target)\n",
    "cols = [\n",
    "    \"area\", \"perimeter\", \"compactness\",\n",
    "    \"length\", \"width\", \"asymmetry\", \"groove_length\",\n",
    "    \"target\"\n",
    "]\n",
    "\n",
    "# 1) 데이터 로드 (확장자 없으면 그냥 경로, sep는 공백 기준)\n",
    "df = pd.read_csv('./seeds_dataset.txt', sep=r\"\\s+\", names=cols)"
   ]
  },
  {
   "cell_type": "code",
   "execution_count": 24,
   "id": "81189ec6-a03c-4bd3-8ee2-54e18699833a",
   "metadata": {},
   "outputs": [],
   "source": [
    "# 2. 특성과 레이블 분리\n",
    "X = df.drop(\"target\", axis=1).values      # shape: (210, 7)\n",
    "y = df[\"target\"].values - 1               # 원래 레이블은 1,2,3 → 0,1,2로 변환"
   ]
  },
  {
   "cell_type": "code",
   "execution_count": 25,
   "id": "71868e5e-8740-4e60-9234-998c5b9e89c2",
   "metadata": {},
   "outputs": [],
   "source": [
    "# 3. train/test 분리\n",
    "X_train, X_test, y_train, y_test = train_test_split(\n",
    "    X, y, test_size=0.2, random_state=42, stratify=y\n",
    ")"
   ]
  },
  {
   "cell_type": "code",
   "execution_count": 26,
   "id": "af6e1320-1597-4e27-9d47-b3b77b134e76",
   "metadata": {},
   "outputs": [],
   "source": [
    "# 4. 스케일링 (필수는 아니지만 안정적인 학습을 위해 권장)\n",
    "scaler = StandardScaler()\n",
    "X_train = scaler.fit_transform(X_train)\n",
    "X_test  = scaler.transform(X_test)"
   ]
  },
  {
   "cell_type": "code",
   "execution_count": 27,
   "id": "97d437a1-4c13-4f51-b3ec-9948fc3e618e",
   "metadata": {},
   "outputs": [],
   "source": [
    "# 5. 텐서로 변환\n",
    "#    (tf.data.Dataset을 써도 되지만, 여기서는 간단히 넘파이를 바로 Keras에 넘깁니다)\n",
    "X_train = tf.convert_to_tensor(X_train, dtype=tf.float32)\n",
    "y_train = tf.convert_to_tensor(y_train, dtype=tf.int32)\n",
    "X_test  = tf.convert_to_tensor(X_test, dtype=tf.float32)\n",
    "y_test  = tf.convert_to_tensor(y_test, dtype=tf.int32)"
   ]
  },
  {
   "cell_type": "code",
   "execution_count": 28,
   "id": "62f43269-0514-4d69-87c2-6959a3e812dc",
   "metadata": {},
   "outputs": [
    {
     "name": "stderr",
     "output_type": "stream",
     "text": [
      "C:\\Users\\leehy\\anaconda3\\Lib\\site-packages\\keras\\src\\layers\\core\\dense.py:87: UserWarning: Do not pass an `input_shape`/`input_dim` argument to a layer. When using Sequential models, prefer using an `Input(shape)` object as the first layer in the model instead.\n",
      "  super().__init__(activity_regularizer=activity_regularizer, **kwargs)\n"
     ]
    }
   ],
   "source": [
    "# 6) 모델 정의\n",
    "model = Sequential()\n",
    "# - 은닉층: 유닛 16, 입력 차원 7\n",
    "model.add(Dense(units=16, input_shape=(7,), activation='relu'))\n",
    "# - 추가 은닉층: 유닛 8\n",
    "model.add(Dense(units=8, activation='relu'))\n",
    "# - 출력층: 클래스 수 3 → units=3, softmax\n",
    "model.add(Dense(units=3, activation='softmax'))"
   ]
  },
  {
   "cell_type": "code",
   "execution_count": 29,
   "id": "4119c716-d04a-485e-8658-60532415d94c",
   "metadata": {},
   "outputs": [
    {
     "name": "stdout",
     "output_type": "stream",
     "text": [
      "Epoch 1/30\n",
      "\u001b[1m9/9\u001b[0m \u001b[32m━━━━━━━━━━━━━━━━━━━━\u001b[0m\u001b[37m\u001b[0m \u001b[1m2s\u001b[0m 56ms/step - accuracy: 0.2178 - loss: 1.3229 - val_accuracy: 0.3824 - val_loss: 1.1958\n",
      "Epoch 2/30\n",
      "\u001b[1m9/9\u001b[0m \u001b[32m━━━━━━━━━━━━━━━━━━━━\u001b[0m\u001b[37m\u001b[0m \u001b[1m0s\u001b[0m 19ms/step - accuracy: 0.3265 - loss: 1.1533 - val_accuracy: 0.5000 - val_loss: 1.0725\n",
      "Epoch 3/30\n",
      "\u001b[1m9/9\u001b[0m \u001b[32m━━━━━━━━━━━━━━━━━━━━\u001b[0m\u001b[37m\u001b[0m \u001b[1m0s\u001b[0m 21ms/step - accuracy: 0.5349 - loss: 1.0489 - val_accuracy: 0.5882 - val_loss: 0.9568\n",
      "Epoch 4/30\n",
      "\u001b[1m9/9\u001b[0m \u001b[32m━━━━━━━━━━━━━━━━━━━━\u001b[0m\u001b[37m\u001b[0m \u001b[1m0s\u001b[0m 19ms/step - accuracy: 0.6565 - loss: 0.9400 - val_accuracy: 0.7353 - val_loss: 0.8528\n",
      "Epoch 5/30\n",
      "\u001b[1m9/9\u001b[0m \u001b[32m━━━━━━━━━━━━━━━━━━━━\u001b[0m\u001b[37m\u001b[0m \u001b[1m0s\u001b[0m 28ms/step - accuracy: 0.7388 - loss: 0.8377 - val_accuracy: 0.7647 - val_loss: 0.7625\n",
      "Epoch 6/30\n",
      "\u001b[1m9/9\u001b[0m \u001b[32m━━━━━━━━━━━━━━━━━━━━\u001b[0m\u001b[37m\u001b[0m \u001b[1m0s\u001b[0m 18ms/step - accuracy: 0.7814 - loss: 0.7958 - val_accuracy: 0.7941 - val_loss: 0.6915\n",
      "Epoch 7/30\n",
      "\u001b[1m9/9\u001b[0m \u001b[32m━━━━━━━━━━━━━━━━━━━━\u001b[0m\u001b[37m\u001b[0m \u001b[1m0s\u001b[0m 22ms/step - accuracy: 0.8266 - loss: 0.7344 - val_accuracy: 0.8235 - val_loss: 0.6331\n",
      "Epoch 8/30\n",
      "\u001b[1m9/9\u001b[0m \u001b[32m━━━━━━━━━━━━━━━━━━━━\u001b[0m\u001b[37m\u001b[0m \u001b[1m0s\u001b[0m 18ms/step - accuracy: 0.8430 - loss: 0.6637 - val_accuracy: 0.8235 - val_loss: 0.5843\n",
      "Epoch 9/30\n",
      "\u001b[1m9/9\u001b[0m \u001b[32m━━━━━━━━━━━━━━━━━━━━\u001b[0m\u001b[37m\u001b[0m \u001b[1m0s\u001b[0m 22ms/step - accuracy: 0.8475 - loss: 0.6093 - val_accuracy: 0.8235 - val_loss: 0.5457\n",
      "Epoch 10/30\n",
      "\u001b[1m9/9\u001b[0m \u001b[32m━━━━━━━━━━━━━━━━━━━━\u001b[0m\u001b[37m\u001b[0m \u001b[1m0s\u001b[0m 20ms/step - accuracy: 0.8831 - loss: 0.5358 - val_accuracy: 0.8529 - val_loss: 0.5149\n",
      "Epoch 11/30\n",
      "\u001b[1m9/9\u001b[0m \u001b[32m━━━━━━━━━━━━━━━━━━━━\u001b[0m\u001b[37m\u001b[0m \u001b[1m0s\u001b[0m 18ms/step - accuracy: 0.8557 - loss: 0.5283 - val_accuracy: 0.8529 - val_loss: 0.4899\n",
      "Epoch 12/30\n",
      "\u001b[1m9/9\u001b[0m \u001b[32m━━━━━━━━━━━━━━━━━━━━\u001b[0m\u001b[37m\u001b[0m \u001b[1m0s\u001b[0m 20ms/step - accuracy: 0.9079 - loss: 0.4664 - val_accuracy: 0.8529 - val_loss: 0.4674\n",
      "Epoch 13/30\n",
      "\u001b[1m9/9\u001b[0m \u001b[32m━━━━━━━━━━━━━━━━━━━━\u001b[0m\u001b[37m\u001b[0m \u001b[1m0s\u001b[0m 36ms/step - accuracy: 0.8848 - loss: 0.4707 - val_accuracy: 0.8529 - val_loss: 0.4504\n",
      "Epoch 14/30\n",
      "\u001b[1m9/9\u001b[0m \u001b[32m━━━━━━━━━━━━━━━━━━━━\u001b[0m\u001b[37m\u001b[0m \u001b[1m0s\u001b[0m 18ms/step - accuracy: 0.8806 - loss: 0.4581 - val_accuracy: 0.8529 - val_loss: 0.4356\n",
      "Epoch 15/30\n",
      "\u001b[1m9/9\u001b[0m \u001b[32m━━━━━━━━━━━━━━━━━━━━\u001b[0m\u001b[37m\u001b[0m \u001b[1m0s\u001b[0m 18ms/step - accuracy: 0.9023 - loss: 0.4492 - val_accuracy: 0.8824 - val_loss: 0.4224\n",
      "Epoch 16/30\n",
      "\u001b[1m9/9\u001b[0m \u001b[32m━━━━━━━━━━━━━━━━━━━━\u001b[0m\u001b[37m\u001b[0m \u001b[1m0s\u001b[0m 20ms/step - accuracy: 0.8715 - loss: 0.4043 - val_accuracy: 0.8824 - val_loss: 0.4086\n",
      "Epoch 17/30\n",
      "\u001b[1m9/9\u001b[0m \u001b[32m━━━━━━━━━━━━━━━━━━━━\u001b[0m\u001b[37m\u001b[0m \u001b[1m0s\u001b[0m 20ms/step - accuracy: 0.9279 - loss: 0.3553 - val_accuracy: 0.8824 - val_loss: 0.3969\n",
      "Epoch 18/30\n",
      "\u001b[1m9/9\u001b[0m \u001b[32m━━━━━━━━━━━━━━━━━━━━\u001b[0m\u001b[37m\u001b[0m \u001b[1m0s\u001b[0m 19ms/step - accuracy: 0.9161 - loss: 0.3557 - val_accuracy: 0.8824 - val_loss: 0.3857\n",
      "Epoch 19/30\n",
      "\u001b[1m9/9\u001b[0m \u001b[32m━━━━━━━━━━━━━━━━━━━━\u001b[0m\u001b[37m\u001b[0m \u001b[1m0s\u001b[0m 19ms/step - accuracy: 0.9076 - loss: 0.3332 - val_accuracy: 0.9118 - val_loss: 0.3723\n",
      "Epoch 20/30\n",
      "\u001b[1m9/9\u001b[0m \u001b[32m━━━━━━━━━━━━━━━━━━━━\u001b[0m\u001b[37m\u001b[0m \u001b[1m0s\u001b[0m 22ms/step - accuracy: 0.9007 - loss: 0.3551 - val_accuracy: 0.9118 - val_loss: 0.3608\n",
      "Epoch 21/30\n",
      "\u001b[1m9/9\u001b[0m \u001b[32m━━━━━━━━━━━━━━━━━━━━\u001b[0m\u001b[37m\u001b[0m \u001b[1m0s\u001b[0m 19ms/step - accuracy: 0.8894 - loss: 0.3323 - val_accuracy: 0.9118 - val_loss: 0.3512\n",
      "Epoch 22/30\n",
      "\u001b[1m9/9\u001b[0m \u001b[32m━━━━━━━━━━━━━━━━━━━━\u001b[0m\u001b[37m\u001b[0m \u001b[1m0s\u001b[0m 18ms/step - accuracy: 0.8948 - loss: 0.3087 - val_accuracy: 0.9118 - val_loss: 0.3424\n",
      "Epoch 23/30\n",
      "\u001b[1m9/9\u001b[0m \u001b[32m━━━━━━━━━━━━━━━━━━━━\u001b[0m\u001b[37m\u001b[0m \u001b[1m0s\u001b[0m 20ms/step - accuracy: 0.8947 - loss: 0.3393 - val_accuracy: 0.9118 - val_loss: 0.3328\n",
      "Epoch 24/30\n",
      "\u001b[1m9/9\u001b[0m \u001b[32m━━━━━━━━━━━━━━━━━━━━\u001b[0m\u001b[37m\u001b[0m \u001b[1m0s\u001b[0m 19ms/step - accuracy: 0.8887 - loss: 0.3413 - val_accuracy: 0.9118 - val_loss: 0.3256\n",
      "Epoch 25/30\n",
      "\u001b[1m9/9\u001b[0m \u001b[32m━━━━━━━━━━━━━━━━━━━━\u001b[0m\u001b[37m\u001b[0m \u001b[1m0s\u001b[0m 17ms/step - accuracy: 0.9267 - loss: 0.2941 - val_accuracy: 0.9118 - val_loss: 0.3181\n",
      "Epoch 26/30\n",
      "\u001b[1m9/9\u001b[0m \u001b[32m━━━━━━━━━━━━━━━━━━━━\u001b[0m\u001b[37m\u001b[0m \u001b[1m0s\u001b[0m 17ms/step - accuracy: 0.9484 - loss: 0.2341 - val_accuracy: 0.9118 - val_loss: 0.3106\n",
      "Epoch 27/30\n",
      "\u001b[1m9/9\u001b[0m \u001b[32m━━━━━━━━━━━━━━━━━━━━\u001b[0m\u001b[37m\u001b[0m \u001b[1m0s\u001b[0m 19ms/step - accuracy: 0.9132 - loss: 0.2919 - val_accuracy: 0.9118 - val_loss: 0.3031\n",
      "Epoch 28/30\n",
      "\u001b[1m9/9\u001b[0m \u001b[32m━━━━━━━━━━━━━━━━━━━━\u001b[0m\u001b[37m\u001b[0m \u001b[1m0s\u001b[0m 19ms/step - accuracy: 0.9180 - loss: 0.2767 - val_accuracy: 0.9118 - val_loss: 0.2973\n",
      "Epoch 29/30\n",
      "\u001b[1m9/9\u001b[0m \u001b[32m━━━━━━━━━━━━━━━━━━━━\u001b[0m\u001b[37m\u001b[0m \u001b[1m0s\u001b[0m 19ms/step - accuracy: 0.9233 - loss: 0.2582 - val_accuracy: 0.9118 - val_loss: 0.2913\n",
      "Epoch 30/30\n",
      "\u001b[1m9/9\u001b[0m \u001b[32m━━━━━━━━━━━━━━━━━━━━\u001b[0m\u001b[37m\u001b[0m \u001b[1m0s\u001b[0m 21ms/step - accuracy: 0.9246 - loss: 0.2507 - val_accuracy: 0.9118 - val_loss: 0.2869\n"
     ]
    }
   ],
   "source": [
    "# 7) 컴파일\n",
    "model.compile(\n",
    "    optimizer='adam',\n",
    "    loss='sparse_categorical_crossentropy',\n",
    "    metrics=['accuracy']\n",
    ")\n",
    "\n",
    "# 8) 학습\n",
    "history = model.fit(\n",
    "    X_train, y_train,\n",
    "    validation_split=0.2,\n",
    "    epochs=30,\n",
    "    batch_size=16,\n",
    "    verbose=1\n",
    ")"
   ]
  },
  {
   "cell_type": "code",
   "execution_count": 30,
   "id": "d25f71c4-ead3-4093-a6cc-4e5d8568a73e",
   "metadata": {},
   "outputs": [
    {
     "name": "stdout",
     "output_type": "stream",
     "text": [
      "테스트 데이터 정확도: 0.8810\n"
     ]
    }
   ],
   "source": [
    "# 9. 평가\n",
    "loss, acc = model.evaluate(X_test, y_test, verbose=0)\n",
    "print(f\"테스트 데이터 정확도: {acc:.4f}\")\n"
   ]
  }
 ],
 "metadata": {
  "kernelspec": {
   "display_name": "Python 3 (ipykernel)",
   "language": "python",
   "name": "python3"
  },
  "language_info": {
   "codemirror_mode": {
    "name": "ipython",
    "version": 3
   },
   "file_extension": ".py",
   "mimetype": "text/x-python",
   "name": "python",
   "nbconvert_exporter": "python",
   "pygments_lexer": "ipython3",
   "version": "3.12.7"
  }
 },
 "nbformat": 4,
 "nbformat_minor": 5
}
