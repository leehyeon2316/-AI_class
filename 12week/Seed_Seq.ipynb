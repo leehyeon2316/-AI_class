{
 "cells": [
  {
   "cell_type": "code",
   "execution_count": 3,
   "id": "a2f091be-8690-4968-8567-e9862ef9dfad",
   "metadata": {},
   "outputs": [],
   "source": [
    "#Sequential 모댈을 만들고 모델에 필요한 레이어를 추가하는 방법"
   ]
  },
  {
   "cell_type": "code",
   "execution_count": 4,
   "id": "303bd62a-1c55-4b89-a9f9-e3a6311e488f",
   "metadata": {},
   "outputs": [],
   "source": [
    "import numpy as np\n",
    "import pandas as pd\n",
    "import tensorflow as tf\n",
    "from tensorflow.keras.models import Sequential\n",
    "from tensorflow.keras.layers import Dense\n",
    "from sklearn.model_selection import train_test_split\n",
    "from sklearn.preprocessing import StandardScaler\n",
    "import tensorflow as tf\n",
    "from tensorflow.keras.models import Sequential, Model\n",
    "from tensorflow.keras.layers import Input, Dense"
   ]
  },
  {
   "cell_type": "code",
   "execution_count": 5,
   "id": "432f11c6-deec-4948-aae9-88f7b8003992",
   "metadata": {},
   "outputs": [],
   "source": [
    "# 컬럼명 정의 (마지막이 레이블 target)\n",
    "cols = [\n",
    "    \"area\", \"perimeter\", \"compactness\",\n",
    "    \"length\", \"width\", \"asymmetry\", \"groove_length\",\n",
    "    \"target\"\n",
    "]\n",
    "\n",
    "# 1) 데이터 로드 (확장자 없으면 그냥 경로, sep는 공백 기준)\n",
    "df = pd.read_csv('./seeds_dataset.txt', sep=r\"\\s+\", names=cols)"
   ]
  },
  {
   "cell_type": "code",
   "execution_count": 6,
   "id": "81189ec6-a03c-4bd3-8ee2-54e18699833a",
   "metadata": {},
   "outputs": [],
   "source": [
    "# 2. 특성과 레이블 분리\n",
    "X = df.drop(\"target\", axis=1).values      # shape: (210, 7)\n",
    "y = df[\"target\"].values - 1               # 원래 레이블은 1,2,3 → 0,1,2로 변환"
   ]
  },
  {
   "cell_type": "code",
   "execution_count": 7,
   "id": "71868e5e-8740-4e60-9234-998c5b9e89c2",
   "metadata": {},
   "outputs": [],
   "source": [
    "# 3. train/test 분리\n",
    "X_train, X_test, y_train, y_test = train_test_split(\n",
    "    X, y, test_size=0.2, random_state=42, stratify=y\n",
    ")"
   ]
  },
  {
   "cell_type": "code",
   "execution_count": 8,
   "id": "af6e1320-1597-4e27-9d47-b3b77b134e76",
   "metadata": {},
   "outputs": [],
   "source": [
    "# 4. 스케일링 (필수는 아니지만 안정적인 학습을 위해 권장)\n",
    "scaler = StandardScaler()\n",
    "X_train = scaler.fit_transform(X_train)\n",
    "X_test  = scaler.transform(X_test)"
   ]
  },
  {
   "cell_type": "code",
   "execution_count": 9,
   "id": "97d437a1-4c13-4f51-b3ec-9948fc3e618e",
   "metadata": {},
   "outputs": [],
   "source": [
    "# 5. 텐서로 변환\n",
    "#    (tf.data.Dataset을 써도 되지만, 여기서는 간단히 넘파이를 바로 Keras에 넘깁니다)\n",
    "X_train = tf.convert_to_tensor(X_train, dtype=tf.float32)\n",
    "y_train = tf.convert_to_tensor(y_train, dtype=tf.int32)\n",
    "X_test  = tf.convert_to_tensor(X_test, dtype=tf.float32)\n",
    "y_test  = tf.convert_to_tensor(y_test, dtype=tf.int32)"
   ]
  },
  {
   "cell_type": "code",
   "execution_count": 10,
   "id": "62f43269-0514-4d69-87c2-6959a3e812dc",
   "metadata": {},
   "outputs": [
    {
     "name": "stderr",
     "output_type": "stream",
     "text": [
      "C:\\Users\\leehy\\anaconda3\\Lib\\site-packages\\keras\\src\\layers\\core\\dense.py:87: UserWarning: Do not pass an `input_shape`/`input_dim` argument to a layer. When using Sequential models, prefer using an `Input(shape)` object as the first layer in the model instead.\n",
      "  super().__init__(activity_regularizer=activity_regularizer, **kwargs)\n"
     ]
    }
   ],
   "source": [
    "# 6) 모델 정의\n",
    "model = Sequential()\n",
    "# - 은닉층: 유닛 16, 입력 차원 7\n",
    "model.add(Dense(units=16, input_shape=(7,), activation='relu'))\n",
    "# - 추가 은닉층: 유닛 8\n",
    "model.add(Dense(units=8, activation='relu'))\n",
    "# - 출력층: 클래스 수 3 → units=3, softmax\n",
    "model.add(Dense(units=3, activation='softmax'))"
   ]
  },
  {
   "cell_type": "code",
   "execution_count": 11,
   "id": "4119c716-d04a-485e-8658-60532415d94c",
   "metadata": {},
   "outputs": [
    {
     "name": "stdout",
     "output_type": "stream",
     "text": [
      "Epoch 1/30\n",
      "\u001b[1m9/9\u001b[0m \u001b[32m━━━━━━━━━━━━━━━━━━━━\u001b[0m\u001b[37m\u001b[0m \u001b[1m4s\u001b[0m 108ms/step - accuracy: 0.0564 - loss: 1.3030 - val_accuracy: 0.1176 - val_loss: 1.2423\n",
      "Epoch 2/30\n",
      "\u001b[1m9/9\u001b[0m \u001b[32m━━━━━━━━━━━━━━━━━━━━\u001b[0m\u001b[37m\u001b[0m \u001b[1m1s\u001b[0m 50ms/step - accuracy: 0.0688 - loss: 1.2499 - val_accuracy: 0.1176 - val_loss: 1.1795\n",
      "Epoch 3/30\n",
      "\u001b[1m9/9\u001b[0m \u001b[32m━━━━━━━━━━━━━━━━━━━━\u001b[0m\u001b[37m\u001b[0m \u001b[1m1s\u001b[0m 48ms/step - accuracy: 0.1130 - loss: 1.1829 - val_accuracy: 0.1471 - val_loss: 1.1272\n",
      "Epoch 4/30\n",
      "\u001b[1m9/9\u001b[0m \u001b[32m━━━━━━━━━━━━━━━━━━━━\u001b[0m\u001b[37m\u001b[0m \u001b[1m1s\u001b[0m 45ms/step - accuracy: 0.1982 - loss: 1.1220 - val_accuracy: 0.2647 - val_loss: 1.0852\n",
      "Epoch 5/30\n",
      "\u001b[1m9/9\u001b[0m \u001b[32m━━━━━━━━━━━━━━━━━━━━\u001b[0m\u001b[37m\u001b[0m \u001b[1m0s\u001b[0m 30ms/step - accuracy: 0.3762 - loss: 1.0630 - val_accuracy: 0.3235 - val_loss: 1.0472\n",
      "Epoch 6/30\n",
      "\u001b[1m9/9\u001b[0m \u001b[32m━━━━━━━━━━━━━━━━━━━━\u001b[0m\u001b[37m\u001b[0m \u001b[1m1s\u001b[0m 43ms/step - accuracy: 0.4240 - loss: 1.0335 - val_accuracy: 0.3235 - val_loss: 1.0083\n",
      "Epoch 7/30\n",
      "\u001b[1m9/9\u001b[0m \u001b[32m━━━━━━━━━━━━━━━━━━━━\u001b[0m\u001b[37m\u001b[0m \u001b[1m1s\u001b[0m 46ms/step - accuracy: 0.6096 - loss: 0.9925 - val_accuracy: 0.5000 - val_loss: 0.9622\n",
      "Epoch 8/30\n",
      "\u001b[1m9/9\u001b[0m \u001b[32m━━━━━━━━━━━━━━━━━━━━\u001b[0m\u001b[37m\u001b[0m \u001b[1m1s\u001b[0m 36ms/step - accuracy: 0.6447 - loss: 0.9426 - val_accuracy: 0.5588 - val_loss: 0.9092\n",
      "Epoch 9/30\n",
      "\u001b[1m9/9\u001b[0m \u001b[32m━━━━━━━━━━━━━━━━━━━━\u001b[0m\u001b[37m\u001b[0m \u001b[1m0s\u001b[0m 32ms/step - accuracy: 0.6343 - loss: 0.9265 - val_accuracy: 0.6176 - val_loss: 0.8545\n",
      "Epoch 10/30\n",
      "\u001b[1m9/9\u001b[0m \u001b[32m━━━━━━━━━━━━━━━━━━━━\u001b[0m\u001b[37m\u001b[0m \u001b[1m0s\u001b[0m 30ms/step - accuracy: 0.7883 - loss: 0.8222 - val_accuracy: 0.7353 - val_loss: 0.8032\n",
      "Epoch 11/30\n",
      "\u001b[1m9/9\u001b[0m \u001b[32m━━━━━━━━━━━━━━━━━━━━\u001b[0m\u001b[37m\u001b[0m \u001b[1m1s\u001b[0m 32ms/step - accuracy: 0.8670 - loss: 0.7760 - val_accuracy: 0.8529 - val_loss: 0.7563\n",
      "Epoch 12/30\n",
      "\u001b[1m9/9\u001b[0m \u001b[32m━━━━━━━━━━━━━━━━━━━━\u001b[0m\u001b[37m\u001b[0m \u001b[1m1s\u001b[0m 35ms/step - accuracy: 0.8972 - loss: 0.7428 - val_accuracy: 0.8824 - val_loss: 0.7162\n",
      "Epoch 13/30\n",
      "\u001b[1m9/9\u001b[0m \u001b[32m━━━━━━━━━━━━━━━━━━━━\u001b[0m\u001b[37m\u001b[0m \u001b[1m0s\u001b[0m 44ms/step - accuracy: 0.9079 - loss: 0.7049 - val_accuracy: 0.8824 - val_loss: 0.6809\n",
      "Epoch 14/30\n",
      "\u001b[1m9/9\u001b[0m \u001b[32m━━━━━━━━━━━━━━━━━━━━\u001b[0m\u001b[37m\u001b[0m \u001b[1m1s\u001b[0m 44ms/step - accuracy: 0.9602 - loss: 0.6352 - val_accuracy: 0.8824 - val_loss: 0.6484\n",
      "Epoch 15/30\n",
      "\u001b[1m9/9\u001b[0m \u001b[32m━━━━━━━━━━━━━━━━━━━━\u001b[0m\u001b[37m\u001b[0m \u001b[1m1s\u001b[0m 33ms/step - accuracy: 0.9092 - loss: 0.6284 - val_accuracy: 0.8824 - val_loss: 0.6193\n",
      "Epoch 16/30\n",
      "\u001b[1m9/9\u001b[0m \u001b[32m━━━━━━━━━━━━━━━━━━━━\u001b[0m\u001b[37m\u001b[0m \u001b[1m1s\u001b[0m 43ms/step - accuracy: 0.9371 - loss: 0.5652 - val_accuracy: 0.8824 - val_loss: 0.5932\n",
      "Epoch 17/30\n",
      "\u001b[1m9/9\u001b[0m \u001b[32m━━━━━━━━━━━━━━━━━━━━\u001b[0m\u001b[37m\u001b[0m \u001b[1m0s\u001b[0m 42ms/step - accuracy: 0.9189 - loss: 0.5726 - val_accuracy: 0.8824 - val_loss: 0.5647\n",
      "Epoch 18/30\n",
      "\u001b[1m9/9\u001b[0m \u001b[32m━━━━━━━━━━━━━━━━━━━━\u001b[0m\u001b[37m\u001b[0m \u001b[1m1s\u001b[0m 34ms/step - accuracy: 0.9289 - loss: 0.4804 - val_accuracy: 0.8824 - val_loss: 0.5382\n",
      "Epoch 19/30\n",
      "\u001b[1m9/9\u001b[0m \u001b[32m━━━━━━━━━━━━━━━━━━━━\u001b[0m\u001b[37m\u001b[0m \u001b[1m1s\u001b[0m 35ms/step - accuracy: 0.8908 - loss: 0.5053 - val_accuracy: 0.8824 - val_loss: 0.5107\n",
      "Epoch 20/30\n",
      "\u001b[1m9/9\u001b[0m \u001b[32m━━━━━━━━━━━━━━━━━━━━\u001b[0m\u001b[37m\u001b[0m \u001b[1m0s\u001b[0m 29ms/step - accuracy: 0.9423 - loss: 0.4609 - val_accuracy: 0.8824 - val_loss: 0.4862\n",
      "Epoch 21/30\n",
      "\u001b[1m9/9\u001b[0m \u001b[32m━━━━━━━━━━━━━━━━━━━━\u001b[0m\u001b[37m\u001b[0m \u001b[1m0s\u001b[0m 31ms/step - accuracy: 0.8946 - loss: 0.4615 - val_accuracy: 0.9118 - val_loss: 0.4614\n",
      "Epoch 22/30\n",
      "\u001b[1m9/9\u001b[0m \u001b[32m━━━━━━━━━━━━━━━━━━━━\u001b[0m\u001b[37m\u001b[0m \u001b[1m0s\u001b[0m 30ms/step - accuracy: 0.9125 - loss: 0.4033 - val_accuracy: 0.8824 - val_loss: 0.4403\n",
      "Epoch 23/30\n",
      "\u001b[1m9/9\u001b[0m \u001b[32m━━━━━━━━━━━━━━━━━━━━\u001b[0m\u001b[37m\u001b[0m \u001b[1m0s\u001b[0m 29ms/step - accuracy: 0.9254 - loss: 0.3847 - val_accuracy: 0.9118 - val_loss: 0.4168\n",
      "Epoch 24/30\n",
      "\u001b[1m9/9\u001b[0m \u001b[32m━━━━━━━━━━━━━━━━━━━━\u001b[0m\u001b[37m\u001b[0m \u001b[1m0s\u001b[0m 31ms/step - accuracy: 0.9410 - loss: 0.3599 - val_accuracy: 0.9118 - val_loss: 0.3947\n",
      "Epoch 25/30\n",
      "\u001b[1m9/9\u001b[0m \u001b[32m━━━━━━━━━━━━━━━━━━━━\u001b[0m\u001b[37m\u001b[0m \u001b[1m0s\u001b[0m 27ms/step - accuracy: 0.9154 - loss: 0.3522 - val_accuracy: 0.9118 - val_loss: 0.3753\n",
      "Epoch 26/30\n",
      "\u001b[1m9/9\u001b[0m \u001b[32m━━━━━━━━━━━━━━━━━━━━\u001b[0m\u001b[37m\u001b[0m \u001b[1m0s\u001b[0m 26ms/step - accuracy: 0.9435 - loss: 0.3049 - val_accuracy: 0.9118 - val_loss: 0.3548\n",
      "Epoch 27/30\n",
      "\u001b[1m9/9\u001b[0m \u001b[32m━━━━━━━━━━━━━━━━━━━━\u001b[0m\u001b[37m\u001b[0m \u001b[1m0s\u001b[0m 30ms/step - accuracy: 0.9260 - loss: 0.3155 - val_accuracy: 0.9118 - val_loss: 0.3332\n",
      "Epoch 28/30\n",
      "\u001b[1m9/9\u001b[0m \u001b[32m━━━━━━━━━━━━━━━━━━━━\u001b[0m\u001b[37m\u001b[0m \u001b[1m0s\u001b[0m 30ms/step - accuracy: 0.9498 - loss: 0.2787 - val_accuracy: 0.9118 - val_loss: 0.3157\n",
      "Epoch 29/30\n",
      "\u001b[1m9/9\u001b[0m \u001b[32m━━━━━━━━━━━━━━━━━━━━\u001b[0m\u001b[37m\u001b[0m \u001b[1m0s\u001b[0m 42ms/step - accuracy: 0.9268 - loss: 0.2842 - val_accuracy: 0.9118 - val_loss: 0.3012\n",
      "Epoch 30/30\n",
      "\u001b[1m9/9\u001b[0m \u001b[32m━━━━━━━━━━━━━━━━━━━━\u001b[0m\u001b[37m\u001b[0m \u001b[1m1s\u001b[0m 33ms/step - accuracy: 0.9207 - loss: 0.2884 - val_accuracy: 0.9118 - val_loss: 0.2897\n"
     ]
    }
   ],
   "source": [
    "# 7) 컴파일\n",
    "model.compile(\n",
    "    optimizer='adam',\n",
    "    loss='sparse_categorical_crossentropy',\n",
    "    metrics=['accuracy']\n",
    ")\n",
    "\n",
    "# 8) 학습\n",
    "history = model.fit(\n",
    "    X_train, y_train,\n",
    "    validation_split=0.2,\n",
    "    epochs=30,\n",
    "    batch_size=16,\n",
    "    verbose=1\n",
    ")"
   ]
  },
  {
   "cell_type": "code",
   "execution_count": 12,
   "id": "d25f71c4-ead3-4093-a6cc-4e5d8568a73e",
   "metadata": {},
   "outputs": [
    {
     "name": "stdout",
     "output_type": "stream",
     "text": [
      "테스트 데이터 정확도: 0.8810\n"
     ]
    }
   ],
   "source": [
    "# 9. 평가\n",
    "loss, acc = model.evaluate(X_test, y_test, verbose=0)\n",
    "print(f\"테스트 데이터 정확도: {acc:.4f}\")\n"
   ]
  },
  {
   "cell_type": "code",
   "execution_count": 13,
   "id": "579c90da-f8e1-43a8-932d-d486e020bde4",
   "metadata": {},
   "outputs": [
    {
     "name": "stdout",
     "output_type": "stream",
     "text": [
      ">>> 전체 손실(loss): 0.3652\n",
      ">>> 전체 정확도(accuracy): 0.8810\n",
      "\n",
      "=== Classification Report ===\n",
      "              precision    recall  f1-score   support\n",
      "\n",
      "           0     1.0000    0.6429    0.7826        14\n",
      "           1     0.8235    1.0000    0.9032        14\n",
      "           2     0.8750    1.0000    0.9333        14\n",
      "\n",
      "    accuracy                         0.8810        42\n",
      "   macro avg     0.8995    0.8810    0.8731        42\n",
      "weighted avg     0.8995    0.8810    0.8731        42\n",
      "\n",
      "=== Confusion Matrix ===\n",
      "[[ 9  3  2]\n",
      " [ 0 14  0]\n",
      " [ 0  0 14]]\n"
     ]
    },
    {
     "data": {
      "image/png": "[encoded data removed]",
      "text/plain": [
       "<Figure size 500x500 with 2 Axes>"
      ]
     },
     "metadata": {},
     "output_type": "display_data"
    }
   ],
   "source": [
    "import numpy as np\n",
    "from sklearn.metrics import classification_report, confusion_matrix\n",
    "\n",
    "# 1) 기본 평가: loss, accuracy\n",
    "loss, acc = model.evaluate(X_test, y_test, verbose=0)\n",
    "print(f\">>> 전체 손실(loss): {loss:.4f}\")\n",
    "print(f\">>> 전체 정확도(accuracy): {acc:.4f}\")\n",
    "\n",
    "# 2) 예측 수행: 확률 → 클래스 라벨\n",
    "y_prob = model.predict(X_test, verbose=0)         # shape: (N, 3)\n",
    "y_pred = np.argmax(y_prob, axis=1)                # 가장 높은 확률 인덱스를 예측 클래스라벨로\n",
    "\n",
    "# 3) 클래스별 리포트 출력\n",
    "#    - precision, recall, f1-score, support(샘플 수)\n",
    "print(\"\\n=== Classification Report ===\")\n",
    "print(classification_report(y_test, y_pred, digits=4))\n",
    "\n",
    "# 4) 혼동 행렬 출력\n",
    "print(\"=== Confusion Matrix ===\")\n",
    "cm = confusion_matrix(y_test, y_pred)\n",
    "print(cm)\n",
    "\n",
    "# 5) (선택) 혼동 행렬을 시각화하려면 matplotlib만 사용\n",
    "import matplotlib.pyplot as plt\n",
    "\n",
    "fig, ax = plt.subplots(figsize=(5,5))\n",
    "im = ax.imshow(cm, interpolation='nearest', cmap=plt.cm.Blues)\n",
    "ax.set(\n",
    "    xticks=np.arange(cm.shape[1]),\n",
    "    yticks=np.arange(cm.shape[0]),\n",
    "    xticklabels=[0,1,2],    # 클래스 라벨\n",
    "    yticklabels=[0,1,2],\n",
    "    ylabel='True label',\n",
    "    xlabel='Predicted label',\n",
    "    title='Confusion Matrix'\n",
    ")\n",
    "plt.colorbar(im, ax=ax)\n",
    "# 각 셀에 숫자 표시\n",
    "thresh = cm.max() / 2.\n",
    "for i in range(cm.shape[0]):\n",
    "    for j in range(cm.shape[1]):\n",
    "        ax.text(j, i, format(cm[i, j], 'd'),\n",
    "                ha=\"center\", va=\"center\",\n",
    "                color=\"white\" if cm[i, j] > thresh else \"black\")\n",
    "plt.show()"
   ]
  }
 ],
 "metadata": {
  "kernelspec": {
   "display_name": "Python 3 (ipykernel)",
   "language": "python",
   "name": "python3"
  },
  "language_info": {
   "codemirror_mode": {
    "name": "ipython",
    "version": 3
   },
   "file_extension": ".py",
   "mimetype": "text/x-python",
   "name": "python",
   "nbconvert_exporter": "python",
   "pygments_lexer": "ipython3",
   "version": "3.12.7"
  }
 },
 "nbformat": 4,
 "nbformat_minor": 5
}
