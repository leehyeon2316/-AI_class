{
 "cells": [
  {
   "cell_type": "code",
   "execution_count": 25,
   "id": "bb5dba08-eee8-4237-a845-7b50aa764f15",
   "metadata": {},
   "outputs": [],
   "source": [
    "# 함수형 API를 사용하는 방법"
   ]
  },
  {
   "cell_type": "code",
   "execution_count": 26,
   "id": "31397ca7-c3ab-418d-92cc-6b62cba5f58a",
   "metadata": {},
   "outputs": [],
   "source": [
    "import pandas as pd\n",
    "import tensorflow as tf\n",
    "from tensorflow.keras.layers import Input, Dense\n",
    "from tensorflow.keras.models import Model\n",
    "from sklearn.model_selection import train_test_split\n",
    "from sklearn.preprocessing import StandardScaler"
   ]
  },
  {
   "cell_type": "code",
   "execution_count": 27,
   "id": "e5ab2b45-de33-4953-8af5-007071fb0dd9",
   "metadata": {},
   "outputs": [],
   "source": [
    "# 1) 컬럼명 정의\n",
    "cols = [\n",
    "    \"area\", \"perimeter\", \"compactness\",\n",
    "    \"length\", \"width\", \"asymmetry\", \"groove_length\",\n",
    "    \"target\"\n",
    "]"
   ]
  },
  {
   "cell_type": "code",
   "execution_count": 28,
   "id": "ce679482-aad5-4646-9792-7363c0687a49",
   "metadata": {},
   "outputs": [],
   "source": [
    "# 2) seeds_dataset 로드\n",
    "df = pd.read_csv('./seeds_dataset.txt', sep=r\"\\s+\", names=cols)\n",
    "\n",
    "# 3) 특성(X)과 레이블(y) 분리\n",
    "X = df.drop(\"target\", axis=1).values      # shape (210, 7)\n",
    "y = df[\"target\"].values - 1               # 원래 1,2,3 → 0,1,2\n",
    "\n",
    "# 4) 학습/테스트 분할\n",
    "X_train, X_test, y_train, y_test = train_test_split(\n",
    "    X, y,\n",
    "    test_size=0.2,\n",
    "    random_state=42,\n",
    "    stratify=y\n",
    ")"
   ]
  },
  {
   "cell_type": "code",
   "execution_count": 29,
   "id": "c37df6f1-f0a7-43ce-89f5-370b99783dcd",
   "metadata": {},
   "outputs": [],
   "source": [
    "# 5) 정규화\n",
    "scaler = StandardScaler()\n",
    "X_train = scaler.fit_transform(X_train)\n",
    "X_test  = scaler.transform(X_test)"
   ]
  },
  {
   "cell_type": "code",
   "execution_count": 30,
   "id": "75c866f3-1680-4900-8c68-af0557a6bc64",
   "metadata": {},
   "outputs": [],
   "source": [
    "# 6) 텐서 변환\n",
    "X_train = tf.convert_to_tensor(X_train, dtype=tf.float32)\n",
    "y_train = tf.convert_to_tensor(y_train, dtype=tf.int32)\n",
    "X_test  = tf.convert_to_tensor(X_test,  dtype=tf.float32)\n",
    "y_test  = tf.convert_to_tensor(y_test,  dtype=tf.int32)"
   ]
  },
  {
   "cell_type": "code",
   "execution_count": 31,
   "id": "3e932a81-282f-4ac8-9451-4913909a3d82",
   "metadata": {},
   "outputs": [],
   "source": [
    "# 7) Functional API 모델 정의\n",
    "inputs     = Input(shape=(7,), name=\"input\")                  # 7개 피처\n",
    "x          = Dense(units=16, activation='relu', name=\"h1\")(inputs)\n",
    "x          = Dense(units=8,  activation='relu', name=\"h2\")(x)\n",
    "prediction = Dense(units=3,  activation='softmax', name=\"out\")(x)\n",
    "\n",
    "model = Model(inputs=inputs, outputs=prediction, name=\"seeds_func\")"
   ]
  },
  {
   "cell_type": "code",
   "execution_count": 32,
   "id": "cbe96168-660b-4c94-80d5-f105040d30bb",
   "metadata": {},
   "outputs": [],
   "source": [
    "# 8) 컴파일\n",
    "model.compile(\n",
    "    optimizer='adam',\n",
    "    loss='sparse_categorical_crossentropy',\n",
    "    metrics=['accuracy']\n",
    ")\n"
   ]
  },
  {
   "cell_type": "code",
   "execution_count": 33,
   "id": "2ec628fd-550f-4ded-9e90-fa160362b09c",
   "metadata": {},
   "outputs": [
    {
     "name": "stdout",
     "output_type": "stream",
     "text": [
      "Epoch 1/30\n",
      "\u001b[1m9/9\u001b[0m \u001b[32m━━━━━━━━━━━━━━━━━━━━\u001b[0m\u001b[37m\u001b[0m \u001b[1m2s\u001b[0m 56ms/step - accuracy: 0.5638 - loss: 1.1275 - val_accuracy: 0.5882 - val_loss: 1.0868\n",
      "Epoch 2/30\n",
      "\u001b[1m9/9\u001b[0m \u001b[32m━━━━━━━━━━━━━━━━━━━━\u001b[0m\u001b[37m\u001b[0m \u001b[1m0s\u001b[0m 40ms/step - accuracy: 0.5678 - loss: 1.0818 - val_accuracy: 0.5882 - val_loss: 1.0137\n",
      "Epoch 3/30\n",
      "\u001b[1m9/9\u001b[0m \u001b[32m━━━━━━━━━━━━━━━━━━━━\u001b[0m\u001b[37m\u001b[0m \u001b[1m0s\u001b[0m 20ms/step - accuracy: 0.6601 - loss: 0.9446 - val_accuracy: 0.6471 - val_loss: 0.9478\n",
      "Epoch 4/30\n",
      "\u001b[1m9/9\u001b[0m \u001b[32m━━━━━━━━━━━━━━━━━━━━\u001b[0m\u001b[37m\u001b[0m \u001b[1m0s\u001b[0m 23ms/step - accuracy: 0.6046 - loss: 0.9274 - val_accuracy: 0.6471 - val_loss: 0.8881\n",
      "Epoch 5/30\n",
      "\u001b[1m9/9\u001b[0m \u001b[32m━━━━━━━━━━━━━━━━━━━━\u001b[0m\u001b[37m\u001b[0m \u001b[1m0s\u001b[0m 22ms/step - accuracy: 0.6316 - loss: 0.8850 - val_accuracy: 0.6471 - val_loss: 0.8343\n",
      "Epoch 6/30\n",
      "\u001b[1m9/9\u001b[0m \u001b[32m━━━━━━━━━━━━━━━━━━━━\u001b[0m\u001b[37m\u001b[0m \u001b[1m0s\u001b[0m 18ms/step - accuracy: 0.6022 - loss: 0.8676 - val_accuracy: 0.7353 - val_loss: 0.7828\n",
      "Epoch 7/30\n",
      "\u001b[1m9/9\u001b[0m \u001b[32m━━━━━━━━━━━━━━━━━━━━\u001b[0m\u001b[37m\u001b[0m \u001b[1m0s\u001b[0m 18ms/step - accuracy: 0.7871 - loss: 0.8099 - val_accuracy: 0.8235 - val_loss: 0.7365\n",
      "Epoch 8/30\n",
      "\u001b[1m9/9\u001b[0m \u001b[32m━━━━━━━━━━━━━━━━━━━━\u001b[0m\u001b[37m\u001b[0m \u001b[1m0s\u001b[0m 42ms/step - accuracy: 0.8602 - loss: 0.7816 - val_accuracy: 0.8824 - val_loss: 0.6960\n",
      "Epoch 9/30\n",
      "\u001b[1m9/9\u001b[0m \u001b[32m━━━━━━━━━━━━━━━━━━━━\u001b[0m\u001b[37m\u001b[0m \u001b[1m0s\u001b[0m 33ms/step - accuracy: 0.9317 - loss: 0.7239 - val_accuracy: 0.8529 - val_loss: 0.6560\n",
      "Epoch 10/30\n",
      "\u001b[1m9/9\u001b[0m \u001b[32m━━━━━━━━━━━━━━━━━━━━\u001b[0m\u001b[37m\u001b[0m \u001b[1m1s\u001b[0m 58ms/step - accuracy: 0.8798 - loss: 0.6915 - val_accuracy: 0.8529 - val_loss: 0.6199\n",
      "Epoch 11/30\n",
      "\u001b[1m9/9\u001b[0m \u001b[32m━━━━━━━━━━━━━━━━━━━━\u001b[0m\u001b[37m\u001b[0m \u001b[1m0s\u001b[0m 33ms/step - accuracy: 0.9069 - loss: 0.6807 - val_accuracy: 0.8824 - val_loss: 0.5843\n",
      "Epoch 12/30\n",
      "\u001b[1m9/9\u001b[0m \u001b[32m━━━━━━━━━━━━━━━━━━━━\u001b[0m\u001b[37m\u001b[0m \u001b[1m1s\u001b[0m 56ms/step - accuracy: 0.9074 - loss: 0.6371 - val_accuracy: 0.8824 - val_loss: 0.5497\n",
      "Epoch 13/30\n",
      "\u001b[1m9/9\u001b[0m \u001b[32m━━━━━━━━━━━━━━━━━━━━\u001b[0m\u001b[37m\u001b[0m \u001b[1m1s\u001b[0m 98ms/step - accuracy: 0.9180 - loss: 0.5732 - val_accuracy: 0.8824 - val_loss: 0.5178\n",
      "Epoch 14/30\n",
      "\u001b[1m9/9\u001b[0m \u001b[32m━━━━━━━━━━━━━━━━━━━━\u001b[0m\u001b[37m\u001b[0m \u001b[1m1s\u001b[0m 29ms/step - accuracy: 0.9260 - loss: 0.5368 - val_accuracy: 0.8824 - val_loss: 0.4878\n",
      "Epoch 15/30\n",
      "\u001b[1m9/9\u001b[0m \u001b[32m━━━━━━━━━━━━━━━━━━━━\u001b[0m\u001b[37m\u001b[0m \u001b[1m0s\u001b[0m 45ms/step - accuracy: 0.9221 - loss: 0.5074 - val_accuracy: 0.8824 - val_loss: 0.4574\n",
      "Epoch 16/30\n",
      "\u001b[1m9/9\u001b[0m \u001b[32m━━━━━━━━━━━━━━━━━━━━\u001b[0m\u001b[37m\u001b[0m \u001b[1m1s\u001b[0m 50ms/step - accuracy: 0.9192 - loss: 0.4833 - val_accuracy: 0.8824 - val_loss: 0.4306\n",
      "Epoch 17/30\n",
      "\u001b[1m9/9\u001b[0m \u001b[32m━━━━━━━━━━━━━━━━━━━━\u001b[0m\u001b[37m\u001b[0m \u001b[1m0s\u001b[0m 46ms/step - accuracy: 0.9072 - loss: 0.4448 - val_accuracy: 0.9118 - val_loss: 0.4054\n",
      "Epoch 18/30\n",
      "\u001b[1m9/9\u001b[0m \u001b[32m━━━━━━━━━━━━━━━━━━━━\u001b[0m\u001b[37m\u001b[0m \u001b[1m1s\u001b[0m 40ms/step - accuracy: 0.9248 - loss: 0.4333 - val_accuracy: 0.9118 - val_loss: 0.3836\n",
      "Epoch 19/30\n",
      "\u001b[1m9/9\u001b[0m \u001b[32m━━━━━━━━━━━━━━━━━━━━\u001b[0m\u001b[37m\u001b[0m \u001b[1m1s\u001b[0m 54ms/step - accuracy: 0.8958 - loss: 0.4310 - val_accuracy: 0.9118 - val_loss: 0.3639\n",
      "Epoch 20/30\n",
      "\u001b[1m9/9\u001b[0m \u001b[32m━━━━━━━━━━━━━━━━━━━━\u001b[0m\u001b[37m\u001b[0m \u001b[1m1s\u001b[0m 28ms/step - accuracy: 0.9006 - loss: 0.3768 - val_accuracy: 0.9118 - val_loss: 0.3450\n",
      "Epoch 21/30\n",
      "\u001b[1m9/9\u001b[0m \u001b[32m━━━━━━━━━━━━━━━━━━━━\u001b[0m\u001b[37m\u001b[0m \u001b[1m0s\u001b[0m 40ms/step - accuracy: 0.8888 - loss: 0.3816 - val_accuracy: 0.9118 - val_loss: 0.3264\n",
      "Epoch 22/30\n",
      "\u001b[1m9/9\u001b[0m \u001b[32m━━━━━━━━━━━━━━━━━━━━\u001b[0m\u001b[37m\u001b[0m \u001b[1m0s\u001b[0m 18ms/step - accuracy: 0.9109 - loss: 0.3457 - val_accuracy: 0.9118 - val_loss: 0.3096\n",
      "Epoch 23/30\n",
      "\u001b[1m9/9\u001b[0m \u001b[32m━━━━━━━━━━━━━━━━━━━━\u001b[0m\u001b[37m\u001b[0m \u001b[1m0s\u001b[0m 18ms/step - accuracy: 0.9386 - loss: 0.3085 - val_accuracy: 0.9118 - val_loss: 0.2959\n",
      "Epoch 24/30\n",
      "\u001b[1m9/9\u001b[0m \u001b[32m━━━━━━━━━━━━━━━━━━━━\u001b[0m\u001b[37m\u001b[0m \u001b[1m0s\u001b[0m 48ms/step - accuracy: 0.9250 - loss: 0.3071 - val_accuracy: 0.9118 - val_loss: 0.2836\n",
      "Epoch 25/30\n",
      "\u001b[1m9/9\u001b[0m \u001b[32m━━━━━━━━━━━━━━━━━━━━\u001b[0m\u001b[37m\u001b[0m \u001b[1m0s\u001b[0m 37ms/step - accuracy: 0.9259 - loss: 0.2708 - val_accuracy: 0.9118 - val_loss: 0.2707\n",
      "Epoch 26/30\n",
      "\u001b[1m9/9\u001b[0m \u001b[32m━━━━━━━━━━━━━━━━━━━━\u001b[0m\u001b[37m\u001b[0m \u001b[1m1s\u001b[0m 26ms/step - accuracy: 0.9103 - loss: 0.2863 - val_accuracy: 0.9118 - val_loss: 0.2607\n",
      "Epoch 27/30\n",
      "\u001b[1m9/9\u001b[0m \u001b[32m━━━━━━━━━━━━━━━━━━━━\u001b[0m\u001b[37m\u001b[0m \u001b[1m0s\u001b[0m 18ms/step - accuracy: 0.9523 - loss: 0.2330 - val_accuracy: 0.9118 - val_loss: 0.2518\n",
      "Epoch 28/30\n",
      "\u001b[1m9/9\u001b[0m \u001b[32m━━━━━━━━━━━━━━━━━━━━\u001b[0m\u001b[37m\u001b[0m \u001b[1m0s\u001b[0m 18ms/step - accuracy: 0.9230 - loss: 0.2384 - val_accuracy: 0.9118 - val_loss: 0.2440\n",
      "Epoch 29/30\n",
      "\u001b[1m9/9\u001b[0m \u001b[32m━━━━━━━━━━━━━━━━━━━━\u001b[0m\u001b[37m\u001b[0m \u001b[1m0s\u001b[0m 18ms/step - accuracy: 0.9373 - loss: 0.2291 - val_accuracy: 0.9118 - val_loss: 0.2368\n",
      "Epoch 30/30\n",
      "\u001b[1m9/9\u001b[0m \u001b[32m━━━━━━━━━━━━━━━━━━━━\u001b[0m\u001b[37m\u001b[0m \u001b[1m0s\u001b[0m 38ms/step - accuracy: 0.9224 - loss: 0.2253 - val_accuracy: 0.9118 - val_loss: 0.2305\n"
     ]
    }
   ],
   "source": [
    "# 9) 학습\n",
    "history = model.fit(\n",
    "    X_train, y_train,\n",
    "    validation_split=0.2,\n",
    "    epochs=30,\n",
    "    batch_size=16,\n",
    "    verbose=1\n",
    ")\n"
   ]
  },
  {
   "cell_type": "code",
   "execution_count": 34,
   "id": "77227a41-7f94-4bdd-872a-a65321d950fc",
   "metadata": {},
   "outputs": [
    {
     "name": "stdout",
     "output_type": "stream",
     "text": [
      "테스트 정확도: 0.9048\n"
     ]
    }
   ],
   "source": [
    "# 10) 평가\n",
    "loss, acc = model.evaluate(X_test, y_test, verbose=0)\n",
    "print(f\"테스트 정확도: {acc:.4f}\")"
   ]
  }
 ],
 "metadata": {
  "kernelspec": {
   "display_name": "Python 3 (ipykernel)",
   "language": "python",
   "name": "python3"
  },
  "language_info": {
   "codemirror_mode": {
    "name": "ipython",
    "version": 3
   },
   "file_extension": ".py",
   "mimetype": "text/x-python",
   "name": "python",
   "nbconvert_exporter": "python",
   "pygments_lexer": "ipython3",
   "version": "3.12.7"
  }
 },
 "nbformat": 4,
 "nbformat_minor": 5
}
