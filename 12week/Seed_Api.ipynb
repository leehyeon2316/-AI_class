{
 "cells": [
  {
   "cell_type": "code",
   "execution_count": 1,
   "id": "bb5dba08-eee8-4237-a845-7b50aa764f15",
   "metadata": {},
   "outputs": [],
   "source": [
    "# 함수형 API를 사용하는 방법"
   ]
  },
  {
   "cell_type": "code",
   "execution_count": 2,
   "id": "31397ca7-c3ab-418d-92cc-6b62cba5f58a",
   "metadata": {},
   "outputs": [],
   "source": [
    "import pandas as pd\n",
    "import tensorflow as tf\n",
    "from tensorflow.keras.layers import Input, Dense\n",
    "from tensorflow.keras.models import Model\n",
    "from sklearn.model_selection import train_test_split\n",
    "from sklearn.preprocessing import StandardScaler\n",
    "import numpy as np\n",
    "from sklearn.metrics import classification_report, confusion_matrix"
   ]
  },
  {
   "cell_type": "code",
   "execution_count": 3,
   "id": "e5ab2b45-de33-4953-8af5-007071fb0dd9",
   "metadata": {},
   "outputs": [],
   "source": [
    "# 1) 컬럼명 정의\n",
    "cols = [\n",
    "    \"area\", \"perimeter\", \"compactness\",\n",
    "    \"length\", \"width\", \"asymmetry\", \"groove_length\",\n",
    "    \"target\"\n",
    "]"
   ]
  },
  {
   "cell_type": "code",
   "execution_count": 4,
   "id": "ce679482-aad5-4646-9792-7363c0687a49",
   "metadata": {},
   "outputs": [],
   "source": [
    "# 2) seeds_dataset 로드\n",
    "df = pd.read_csv('./seeds_dataset.txt', sep=r\"\\s+\", names=cols)\n",
    "\n",
    "# 3) 특성(X)과 레이블(y) 분리\n",
    "X = df.drop(\"target\", axis=1).values      # shape (210, 7)\n",
    "y = df[\"target\"].values - 1               # 원래 1,2,3 → 0,1,2\n",
    "\n",
    "# 4) 학습/테스트 분할\n",
    "X_train, X_test, y_train, y_test = train_test_split(\n",
    "    X, y,\n",
    "    test_size=0.2,\n",
    "    random_state=42,\n",
    "    stratify=y\n",
    ")"
   ]
  },
  {
   "cell_type": "code",
   "execution_count": 5,
   "id": "c37df6f1-f0a7-43ce-89f5-370b99783dcd",
   "metadata": {},
   "outputs": [],
   "source": [
    "# 5) 정규화\n",
    "scaler = StandardScaler()\n",
    "X_train = scaler.fit_transform(X_train)\n",
    "X_test  = scaler.transform(X_test)"
   ]
  },
  {
   "cell_type": "code",
   "execution_count": 6,
   "id": "75c866f3-1680-4900-8c68-af0557a6bc64",
   "metadata": {},
   "outputs": [],
   "source": [
    "# 6) 텐서 변환\n",
    "X_train = tf.convert_to_tensor(X_train, dtype=tf.float32)\n",
    "y_train = tf.convert_to_tensor(y_train, dtype=tf.int32)\n",
    "X_test  = tf.convert_to_tensor(X_test,  dtype=tf.float32)\n",
    "y_test  = tf.convert_to_tensor(y_test,  dtype=tf.int32)"
   ]
  },
  {
   "cell_type": "code",
   "execution_count": 7,
   "id": "3e932a81-282f-4ac8-9451-4913909a3d82",
   "metadata": {},
   "outputs": [],
   "source": [
    "# 7) Functional API 모델 정의\n",
    "inputs     = Input(shape=(7,), name=\"input\")                  # 7개 피처\n",
    "x          = Dense(units=16, activation='relu', name=\"h1\")(inputs)\n",
    "x          = Dense(units=8,  activation='relu', name=\"h2\")(x)\n",
    "prediction = Dense(units=3,  activation='softmax', name=\"out\")(x)\n",
    "\n",
    "model = Model(inputs=inputs, outputs=prediction, name=\"seeds_func\")"
   ]
  },
  {
   "cell_type": "code",
   "execution_count": 8,
   "id": "cbe96168-660b-4c94-80d5-f105040d30bb",
   "metadata": {},
   "outputs": [],
   "source": [
    "# 8) 컴파일\n",
    "model.compile(\n",
    "    optimizer='adam',\n",
    "    loss='sparse_categorical_crossentropy',\n",
    "    metrics=['accuracy']\n",
    ")\n"
   ]
  },
  {
   "cell_type": "code",
   "execution_count": 9,
   "id": "2ec628fd-550f-4ded-9e90-fa160362b09c",
   "metadata": {},
   "outputs": [
    {
     "name": "stdout",
     "output_type": "stream",
     "text": [
      "Epoch 1/30\n",
      "\u001b[1m9/9\u001b[0m \u001b[32m━━━━━━━━━━━━━━━━━━━━\u001b[0m\u001b[37m\u001b[0m \u001b[1m4s\u001b[0m 105ms/step - accuracy: 0.2021 - loss: 1.1946 - val_accuracy: 0.2353 - val_loss: 1.1623\n",
      "Epoch 2/30\n",
      "\u001b[1m9/9\u001b[0m \u001b[32m━━━━━━━━━━━━━━━━━━━━\u001b[0m\u001b[37m\u001b[0m \u001b[1m1s\u001b[0m 42ms/step - accuracy: 0.2853 - loss: 1.1119 - val_accuracy: 0.3529 - val_loss: 1.0732\n",
      "Epoch 3/30\n",
      "\u001b[1m9/9\u001b[0m \u001b[32m━━━━━━━━━━━━━━━━━━━━\u001b[0m\u001b[37m\u001b[0m \u001b[1m0s\u001b[0m 38ms/step - accuracy: 0.3412 - loss: 1.0393 - val_accuracy: 0.4706 - val_loss: 0.9887\n",
      "Epoch 4/30\n",
      "\u001b[1m9/9\u001b[0m \u001b[32m━━━━━━━━━━━━━━━━━━━━\u001b[0m\u001b[37m\u001b[0m \u001b[1m1s\u001b[0m 33ms/step - accuracy: 0.5195 - loss: 0.9515 - val_accuracy: 0.5294 - val_loss: 0.9138\n",
      "Epoch 5/30\n",
      "\u001b[1m9/9\u001b[0m \u001b[32m━━━━━━━━━━━━━━━━━━━━\u001b[0m\u001b[37m\u001b[0m \u001b[1m1s\u001b[0m 50ms/step - accuracy: 0.6283 - loss: 0.8909 - val_accuracy: 0.6471 - val_loss: 0.8488\n",
      "Epoch 6/30\n",
      "\u001b[1m9/9\u001b[0m \u001b[32m━━━━━━━━━━━━━━━━━━━━\u001b[0m\u001b[37m\u001b[0m \u001b[1m1s\u001b[0m 44ms/step - accuracy: 0.7183 - loss: 0.8332 - val_accuracy: 0.7941 - val_loss: 0.7931\n",
      "Epoch 7/30\n",
      "\u001b[1m9/9\u001b[0m \u001b[32m━━━━━━━━━━━━━━━━━━━━\u001b[0m\u001b[37m\u001b[0m \u001b[1m1s\u001b[0m 34ms/step - accuracy: 0.7924 - loss: 0.7981 - val_accuracy: 0.8529 - val_loss: 0.7452\n",
      "Epoch 8/30\n",
      "\u001b[1m9/9\u001b[0m \u001b[32m━━━━━━━━━━━━━━━━━━━━\u001b[0m\u001b[37m\u001b[0m \u001b[1m0s\u001b[0m 35ms/step - accuracy: 0.8654 - loss: 0.7307 - val_accuracy: 0.8824 - val_loss: 0.7048\n",
      "Epoch 9/30\n",
      "\u001b[1m9/9\u001b[0m \u001b[32m━━━━━━━━━━━━━━━━━━━━\u001b[0m\u001b[37m\u001b[0m \u001b[1m1s\u001b[0m 43ms/step - accuracy: 0.8596 - loss: 0.6982 - val_accuracy: 0.8824 - val_loss: 0.6683\n",
      "Epoch 10/30\n",
      "\u001b[1m9/9\u001b[0m \u001b[32m━━━━━━━━━━━━━━━━━━━━\u001b[0m\u001b[37m\u001b[0m \u001b[1m1s\u001b[0m 44ms/step - accuracy: 0.8663 - loss: 0.6797 - val_accuracy: 0.8824 - val_loss: 0.6325\n",
      "Epoch 11/30\n",
      "\u001b[1m9/9\u001b[0m \u001b[32m━━━━━━━━━━━━━━━━━━━━\u001b[0m\u001b[37m\u001b[0m \u001b[1m1s\u001b[0m 31ms/step - accuracy: 0.8487 - loss: 0.6319 - val_accuracy: 0.8824 - val_loss: 0.5988\n",
      "Epoch 12/30\n",
      "\u001b[1m9/9\u001b[0m \u001b[32m━━━━━━━━━━━━━━━━━━━━\u001b[0m\u001b[37m\u001b[0m \u001b[1m0s\u001b[0m 31ms/step - accuracy: 0.8496 - loss: 0.5958 - val_accuracy: 0.8824 - val_loss: 0.5678\n",
      "Epoch 13/30\n",
      "\u001b[1m9/9\u001b[0m \u001b[32m━━━━━━━━━━━━━━━━━━━━\u001b[0m\u001b[37m\u001b[0m \u001b[1m0s\u001b[0m 29ms/step - accuracy: 0.8695 - loss: 0.5539 - val_accuracy: 0.8824 - val_loss: 0.5377\n",
      "Epoch 14/30\n",
      "\u001b[1m9/9\u001b[0m \u001b[32m━━━━━━━━━━━━━━━━━━━━\u001b[0m\u001b[37m\u001b[0m \u001b[1m0s\u001b[0m 34ms/step - accuracy: 0.9176 - loss: 0.5006 - val_accuracy: 0.8824 - val_loss: 0.5073\n",
      "Epoch 15/30\n",
      "\u001b[1m9/9\u001b[0m \u001b[32m━━━━━━━━━━━━━━━━━━━━\u001b[0m\u001b[37m\u001b[0m \u001b[1m1s\u001b[0m 31ms/step - accuracy: 0.8842 - loss: 0.5067 - val_accuracy: 0.8824 - val_loss: 0.4803\n",
      "Epoch 16/30\n",
      "\u001b[1m9/9\u001b[0m \u001b[32m━━━━━━━━━━━━━━━━━━━━\u001b[0m\u001b[37m\u001b[0m \u001b[1m1s\u001b[0m 34ms/step - accuracy: 0.8830 - loss: 0.4298 - val_accuracy: 0.8824 - val_loss: 0.4569\n",
      "Epoch 17/30\n",
      "\u001b[1m9/9\u001b[0m \u001b[32m━━━━━━━━━━━━━━━━━━━━\u001b[0m\u001b[37m\u001b[0m \u001b[1m1s\u001b[0m 43ms/step - accuracy: 0.9175 - loss: 0.4264 - val_accuracy: 0.8824 - val_loss: 0.4362\n",
      "Epoch 18/30\n",
      "\u001b[1m9/9\u001b[0m \u001b[32m━━━━━━━━━━━━━━━━━━━━\u001b[0m\u001b[37m\u001b[0m \u001b[1m1s\u001b[0m 32ms/step - accuracy: 0.8593 - loss: 0.4510 - val_accuracy: 0.8824 - val_loss: 0.4159\n",
      "Epoch 19/30\n",
      "\u001b[1m9/9\u001b[0m \u001b[32m━━━━━━━━━━━━━━━━━━━━\u001b[0m\u001b[37m\u001b[0m \u001b[1m0s\u001b[0m 41ms/step - accuracy: 0.8863 - loss: 0.4418 - val_accuracy: 0.8824 - val_loss: 0.3968\n",
      "Epoch 20/30\n",
      "\u001b[1m9/9\u001b[0m \u001b[32m━━━━━━━━━━━━━━━━━━━━\u001b[0m\u001b[37m\u001b[0m \u001b[1m0s\u001b[0m 29ms/step - accuracy: 0.9091 - loss: 0.3883 - val_accuracy: 0.8824 - val_loss: 0.3794\n",
      "Epoch 21/30\n",
      "\u001b[1m9/9\u001b[0m \u001b[32m━━━━━━━━━━━━━━━━━━━━\u001b[0m\u001b[37m\u001b[0m \u001b[1m0s\u001b[0m 33ms/step - accuracy: 0.8704 - loss: 0.3817 - val_accuracy: 0.8824 - val_loss: 0.3663\n",
      "Epoch 22/30\n",
      "\u001b[1m9/9\u001b[0m \u001b[32m━━━━━━━━━━━━━━━━━━━━\u001b[0m\u001b[37m\u001b[0m \u001b[1m0s\u001b[0m 28ms/step - accuracy: 0.8784 - loss: 0.3713 - val_accuracy: 0.8824 - val_loss: 0.3545\n",
      "Epoch 23/30\n",
      "\u001b[1m9/9\u001b[0m \u001b[32m━━━━━━━━━━━━━━━━━━━━\u001b[0m\u001b[37m\u001b[0m \u001b[1m0s\u001b[0m 25ms/step - accuracy: 0.8891 - loss: 0.3538 - val_accuracy: 0.8824 - val_loss: 0.3450\n",
      "Epoch 24/30\n",
      "\u001b[1m9/9\u001b[0m \u001b[32m━━━━━━━━━━━━━━━━━━━━\u001b[0m\u001b[37m\u001b[0m \u001b[1m0s\u001b[0m 29ms/step - accuracy: 0.8780 - loss: 0.3458 - val_accuracy: 0.8824 - val_loss: 0.3342\n",
      "Epoch 25/30\n",
      "\u001b[1m9/9\u001b[0m \u001b[32m━━━━━━━━━━━━━━━━━━━━\u001b[0m\u001b[37m\u001b[0m \u001b[1m0s\u001b[0m 41ms/step - accuracy: 0.8630 - loss: 0.3492 - val_accuracy: 0.8824 - val_loss: 0.3245\n",
      "Epoch 26/30\n",
      "\u001b[1m9/9\u001b[0m \u001b[32m━━━━━━━━━━━━━━━━━━━━\u001b[0m\u001b[37m\u001b[0m \u001b[1m1s\u001b[0m 33ms/step - accuracy: 0.9223 - loss: 0.2864 - val_accuracy: 0.8824 - val_loss: 0.3145\n",
      "Epoch 27/30\n",
      "\u001b[1m9/9\u001b[0m \u001b[32m━━━━━━━━━━━━━━━━━━━━\u001b[0m\u001b[37m\u001b[0m \u001b[1m1s\u001b[0m 42ms/step - accuracy: 0.9334 - loss: 0.2678 - val_accuracy: 0.9118 - val_loss: 0.3065\n",
      "Epoch 28/30\n",
      "\u001b[1m9/9\u001b[0m \u001b[32m━━━━━━━━━━━━━━━━━━━━\u001b[0m\u001b[37m\u001b[0m \u001b[1m1s\u001b[0m 31ms/step - accuracy: 0.9282 - loss: 0.2626 - val_accuracy: 0.9118 - val_loss: 0.2999\n",
      "Epoch 29/30\n",
      "\u001b[1m9/9\u001b[0m \u001b[32m━━━━━━━━━━━━━━━━━━━━\u001b[0m\u001b[37m\u001b[0m \u001b[1m1s\u001b[0m 31ms/step - accuracy: 0.9048 - loss: 0.2673 - val_accuracy: 0.9118 - val_loss: 0.2966\n",
      "Epoch 30/30\n",
      "\u001b[1m9/9\u001b[0m \u001b[32m━━━━━━━━━━━━━━━━━━━━\u001b[0m\u001b[37m\u001b[0m \u001b[1m0s\u001b[0m 30ms/step - accuracy: 0.9030 - loss: 0.2805 - val_accuracy: 0.9118 - val_loss: 0.2922\n"
     ]
    }
   ],
   "source": [
    "# 9) 학습\n",
    "history = model.fit(\n",
    "    X_train, y_train,\n",
    "    validation_split=0.2,\n",
    "    epochs=30,\n",
    "    batch_size=16,\n",
    "    verbose=1\n",
    ")\n"
   ]
  },
  {
   "cell_type": "code",
   "execution_count": 21,
   "id": "77227a41-7f94-4bdd-872a-a65321d950fc",
   "metadata": {},
   "outputs": [
    {
     "name": "stdout",
     "output_type": "stream",
     "text": [
      ">>> 전체 손실(loss): 0.2982\n",
      ">>> 전체 정확도(accuracy): 0.8571\n",
      "\n",
      "=== Classification Report ===\n",
      "              precision    recall  f1-score   support\n",
      "\n",
      "           0     1.0000    0.5714    0.7273        14\n",
      "           1     0.8235    1.0000    0.9032        14\n",
      "           2     0.8235    1.0000    0.9032        14\n",
      "\n",
      "    accuracy                         0.8571        42\n",
      "   macro avg     0.8824    0.8571    0.8446        42\n",
      "weighted avg     0.8824    0.8571    0.8446        42\n",
      "\n",
      "=== Confusion Matrix ===\n",
      "[[ 8  3  3]\n",
      " [ 0 14  0]\n",
      " [ 0  0 14]]\n"
     ]
    },
    {
     "data": {
      "image/png": "[encoded data removed]",
      "text/plain": [
       "<Figure size 500x500 with 2 Axes>"
      ]
     },
     "metadata": {},
     "output_type": "display_data"
    }
   ],
   "source": [
    "# 1) 기본 평가: loss, accuracy\n",
    "loss, acc = model.evaluate(X_test, y_test, verbose=0)\n",
    "print(f\">>> 전체 손실(loss): {loss:.4f}\")\n",
    "print(f\">>> 전체 정확도(accuracy): {acc:.4f}\")\n",
    "\n",
    "# 2) 예측 수행: 확률 → 클래스 라벨\n",
    "y_prob = model.predict(X_test, verbose=0)         # shape: (N, 3)\n",
    "y_pred = np.argmax(y_prob, axis=1)                # 가장 높은 확률 인덱스를 예측 클래스라벨로\n",
    "\n",
    "# 3) 클래스별 리포트 출력\n",
    "#    - precision, recall, f1-score, support(샘플 수)\n",
    "print(\"\\n=== Classification Report ===\")\n",
    "print(classification_report(y_test, y_pred, digits=4))\n",
    "\n",
    "# 4) 혼동 행렬 출력\n",
    "print(\"=== Confusion Matrix ===\")\n",
    "cm = confusion_matrix(y_test, y_pred)\n",
    "print(cm)\n",
    "\n",
    "# 5) (선택) 혼동 행렬을 시각화하려면 matplotlib만 사용\n",
    "import matplotlib.pyplot as plt\n",
    "\n",
    "fig, ax = plt.subplots(figsize=(5,5))\n",
    "im = ax.imshow(cm, interpolation='nearest', cmap=plt.cm.Blues)\n",
    "ax.set(\n",
    "    xticks=np.arange(cm.shape[1]),\n",
    "    yticks=np.arange(cm.shape[0]),\n",
    "    xticklabels=[0,1,2],    # 클래스 라벨\n",
    "    yticklabels=[0,1,2],\n",
    "    ylabel='True label',\n",
    "    xlabel='Predicted label',\n",
    "    title='Confusion Matrix'\n",
    ")\n",
    "plt.colorbar(im, ax=ax)\n",
    "# 각 셀에 숫자 표시\n",
    "thresh = cm.max() / 2.\n",
    "for i in range(cm.shape[0]):\n",
    "    for j in range(cm.shape[1]):\n",
    "        ax.text(j, i, format(cm[i, j], 'd'),\n",
    "                ha=\"center\", va=\"center\",\n",
    "                color=\"white\" if cm[i, j] > thresh else \"black\")\n",
    "plt.show()"
   ]
  }
 ],
 "metadata": {
  "kernelspec": {
   "display_name": "Python 3 (ipykernel)",
   "language": "python",
   "name": "python3"
  },
  "language_info": {
   "codemirror_mode": {
    "name": "ipython",
    "version": 3
   },
   "file_extension": ".py",
   "mimetype": "text/x-python",
   "name": "python",
   "nbconvert_exporter": "python",
   "pygments_lexer": "ipython3",
   "version": "3.12.7"
  }
 },
 "nbformat": 4,
 "nbformat_minor": 5
}
