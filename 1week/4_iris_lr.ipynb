{
 "cells": [
  {
   "cell_type": "code",
   "execution_count": 1,
   "id": "39bcde35-1a49-4645-8391-166de46a9690",
   "metadata": {},
   "outputs": [],
   "source": [
    "import pandas as pd\n",
    "\n",
    "## train과 test set 구분 모듈\n",
    "from sklearn.model_selection import train_test_split\n",
    "\n",
    "## LR\n",
    "from sklearn.linear_model import LinearRegression\n",
    "\n",
    "## 정확도 예측 모듈(연속적인 데이터에서 사용 안함)\n",
    "from sklearn.metrics import accuracy_score"
   ]
  },
  {
   "cell_type": "code",
   "execution_count": 2,
   "id": "41ed7f99-80f6-4b51-ba1a-e9dd5722d576",
   "metadata": {},
   "outputs": [],
   "source": [
    "# 붓꽃 데이터 CSV 파일 읽기\n",
    "file_path = \"C:\\\\Users\\\\leehy\\\\ AI_class\\\\1week\\\\iris.csv\"  # 본인이 iris.csv를 저장한 경로를 입력합니다.\n",
    "df = pd.read_csv(file_path)"
   ]
  },
  {
   "cell_type": "code",
   "execution_count": 3,
   "id": "df7d85b5-5dfa-4397-8170-fd32d433fed3",
   "metadata": {},
   "outputs": [],
   "source": [
    "# 데이터셋을 8:2로 분할\n",
    "train, test = train_test_split(df, test_size=0.2, random_state=1)\n",
    "\n",
    "# 여러 컬럼을 선택할 때는 대괄호를 이중으로 사용합니다.\n",
    "x_train = train[['SepalLength', 'SepalWidth', 'PetalLength']]\n",
    "y_train = train['PetalWidth']\n",
    "\n",
    "x_test = test[['SepalLength', 'SepalWidth', 'PetalLength']]\n",
    "y_test = test['PetalWidth']"
   ]
  },
  {
   "cell_type": "code",
   "execution_count": 4,
   "id": "4a6c0a0f-41e0-4b81-a976-1d76a3827c15",
   "metadata": {},
   "outputs": [
    {
     "data": {
      "text/plain": [
       "0.901224009838055"
      ]
     },
     "execution_count": 4,
     "metadata": {},
     "output_type": "execute_result"
    }
   ],
   "source": [
    "model = LinearRegression()\n",
    "model.fit(x_train, y_train)\n",
    "\n",
    "model.score(x_test, y_test)"
   ]
  }
 ],
 "metadata": {
  "kernelspec": {
   "display_name": "Python 3 (ipykernel)",
   "language": "python",
   "name": "python3"
  },
  "language_info": {
   "codemirror_mode": {
    "name": "ipython",
    "version": 3
   },
   "file_extension": ".py",
   "mimetype": "text/x-python",
   "name": "python",
   "nbconvert_exporter": "python",
   "pygments_lexer": "ipython3",
   "version": "3.12.7"
  }
 },
 "nbformat": 4,
 "nbformat_minor": 5
}
