{
 "cells": [
  {
   "cell_type": "code",
   "execution_count": 3,
   "id": "c30b050c-9b4b-4c33-ae34-460033877291",
   "metadata": {},
   "outputs": [],
   "source": [
    "import pandas as pd\n",
    "\n",
    "## train과 test set 구분 모듈\n",
    "from sklearn.model_selection import train_test_split\n",
    "\n",
    "## sym\n",
    "from sklearn.svm import SVC\n",
    "\n",
    "## 정확도 예측 모듈(연속적인 데이터에서 사용 안함)\n",
    "from sklearn.metrics import accuracy_score"
   ]
  },
  {
   "cell_type": "code",
   "execution_count": 4,
   "id": "4b39c5f9-4dc2-4faf-a194-659b7d796290",
   "metadata": {},
   "outputs": [],
   "source": [
    "# 붓꽃 데이터 CSV 파일 읽기\n",
    "file_path = \"C:\\\\Users\\\\leehy\\\\ AI_class\\\\1week\\\\iris.csv\"  # 본인이 iris.csv를 저장한 경로를 입력합니다.\n",
    "df = pd.read_csv(file_path)"
   ]
  },
  {
   "cell_type": "code",
   "execution_count": 5,
   "id": "3b72afcb-ebb0-4da0-b598-d4c6452b96a4",
   "metadata": {},
   "outputs": [],
   "source": [
    "# 데이터셋을 8:2로 분할\n",
    "train, test = train_test_split(df, test_size=0.2, random_state=1)\n",
    "\n",
    "# 여러 컬럼을 선택할 때는 대괄호를 이중으로 사용합니다.\n",
    "x_train = train[['SepalLength', 'SepalWidth', 'PetalLength', 'PetalWidth']]\n",
    "y_train = train['Name']\n",
    "\n",
    "x_test = test[['SepalLength', 'SepalWidth', 'PetalLength', 'PetalWidth']]\n",
    "y_test = test['Name']"
   ]
  },
  {
   "cell_type": "code",
   "execution_count": 6,
   "id": "28dd1b07-d2c5-4b78-b0d0-1e9e14e3eb63",
   "metadata": {},
   "outputs": [
    {
     "name": "stdout",
     "output_type": "stream",
     "text": [
      "1.0\n"
     ]
    }
   ],
   "source": [
    "# 선형으로 분류\n",
    "clf = SVC(kernel='linear', random_state=2022)\n",
    "clf.fit(x_train, y_train)\n",
    "\n",
    "y_pred = clf.predict(x_test)\n",
    "\n",
    "acc = accuracy_score(y_test, y_pred)\n",
    "print(acc)"
   ]
  }
 ],
 "metadata": {
  "kernelspec": {
   "display_name": "Python 3 (ipykernel)",
   "language": "python",
   "name": "python3"
  },
  "language_info": {
   "codemirror_mode": {
    "name": "ipython",
    "version": 3
   },
   "file_extension": ".py",
   "mimetype": "text/x-python",
   "name": "python",
   "nbconvert_exporter": "python",
   "pygments_lexer": "ipython3",
   "version": "3.12.7"
  }
 },
 "nbformat": 4,
 "nbformat_minor": 5
}
