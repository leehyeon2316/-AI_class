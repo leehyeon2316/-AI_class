{
 "cells": [
  {
   "cell_type": "code",
   "execution_count": 31,
   "id": "1c8cf5a0-9313-45ac-8cff-f558053f0bfa",
   "metadata": {},
   "outputs": [],
   "source": [
    "import pandas as pd\n",
    "from sklearn.model_selection import train_test_split\n",
    "from sklearn.preprocessing import StandardScaler\n",
    "from sklearn.linear_model import LogisticRegression\n",
    "from sklearn.tree import DecisionTreeClassifier\n",
    "from sklearn.ensemble import RandomForestClassifier\n",
    "from sklearn.svm import SVC\n",
    "from sklearn.metrics import accuracy_score, classification_report"
   ]
  },
  {
   "cell_type": "code",
   "execution_count": 32,
   "id": "254d6683-4abc-49ab-9cac-356089f58ffb",
   "metadata": {},
   "outputs": [],
   "source": [
    "# 데이터 불러오기\n",
    "file_path = \"mobile.csv\"\n",
    "df = pd.read_csv(file_path)"
   ]
  },
  {
   "cell_type": "code",
   "execution_count": 33,
   "id": "832c51cd-80f8-4ea1-9f4e-94f7afa4cac5",
   "metadata": {},
   "outputs": [],
   "source": [
    "# 데이터 분할 (80% 훈련, 20% 테스트)\n",
    "X = df.drop(columns=[\"price_range\"])\n",
    "y = df[\"price_range\"]\n",
    "\n",
    "X_train, X_test, y_train, y_test = train_test_split(X, y, test_size=0.2, random_state=42, stratify=y)\n",
    "\n",
    "# 데이터 스케일링 (SVM과 로지스틱 회귀를 위해 필요)\n",
    "scaler = StandardScaler()\n",
    "X_train_scaled = scaler.fit_transform(X_train)\n",
    "X_test_scaled = scaler.transform(X_test)\n",
    "\n",
    "# 모델 초기화\n",
    "models = {\n",
    "    \"Logistic Regression\": LogisticRegression(max_iter=1000),\n",
    "    \"Decision Tree\": DecisionTreeClassifier(random_state=42),\n",
    "    \"Random Forest\": RandomForestClassifier(n_estimators=100, random_state=42),\n",
    "    \"SVM\": SVC(kernel=\"linear\")\n",
    "}"
   ]
  },
  {
   "cell_type": "code",
   "execution_count": 34,
   "id": "0a3c5705-e624-4beb-93b6-e1684803dc48",
   "metadata": {},
   "outputs": [
    {
     "data": {
      "text/plain": [
       "501     3\n",
       "1924    1\n",
       "1710    0\n",
       "547     2\n",
       "496     3\n",
       "       ..\n",
       "1204    1\n",
       "1937    2\n",
       "412     1\n",
       "243     2\n",
       "724     1\n",
       "Name: price_range, Length: 400, dtype: int64"
      ]
     },
     "execution_count": 34,
     "metadata": {},
     "output_type": "execute_result"
    }
   ],
   "source": [
    "y_test"
   ]
  },
  {
   "cell_type": "code",
   "execution_count": 35,
   "id": "bc4fd1e4-6112-4b3a-8bf9-985d240d5a2f",
   "metadata": {},
   "outputs": [],
   "source": [
    "# 모델 학습 및 평가\n",
    "results = {}\n",
    "classification_reports = {}\n",
    "\n",
    "for name, model in models.items():\n",
    "    if name in [\"Logistic Regression\", \"SVM\"]:\n",
    "        model.fit(X_train_scaled, y_train)\n",
    "        y_pred = model.predict(X_test_scaled)\n",
    "    else:\n",
    "        model.fit(X_train, y_train)\n",
    "        y_pred = model.predict(X_test)\n",
    "    \n",
    "    acc = accuracy_score(y_test, y_pred)\n",
    "    results[name] = acc\n",
    "    classification_reports[name] = classification_report(y_test, y_pred, output_dict=True)"
   ]
  },
  {
   "cell_type": "code",
   "execution_count": 36,
   "id": "96466c4e-3496-47ed-9fe8-72ddceaec6be",
   "metadata": {},
   "outputs": [
    {
     "name": "stdout",
     "output_type": "stream",
     "text": [
      "Model Accuracy Scores:\n",
      "Logistic Regression: 96.50%\n",
      "Decision Tree: 83.00%\n",
      "Random Forest: 88.00%\n",
      "SVM: 96.25%\n"
     ]
    }
   ],
   "source": [
    "# 정확도 출력\n",
    "print(\"Model Accuracy Scores:\")\n",
    "for model, score in results.items():\n",
    "    print(f\"{model}: {score:.2%}\")  # 정확도를 퍼센트(%)로 출력\n"
   ]
  }
 ],
 "metadata": {
  "kernelspec": {
   "display_name": "Python 3 (ipykernel)",
   "language": "python",
   "name": "python3"
  },
  "language_info": {
   "codemirror_mode": {
    "name": "ipython",
    "version": 3
   },
   "file_extension": ".py",
   "mimetype": "text/x-python",
   "name": "python",
   "nbconvert_exporter": "python",
   "pygments_lexer": "ipython3",
   "version": "3.12.7"
  }
 },
 "nbformat": 4,
 "nbformat_minor": 5
}
