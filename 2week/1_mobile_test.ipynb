{
 "cells": [
  {
   "cell_type": "code",
   "execution_count": 23,
   "id": "1c8cf5a0-9313-45ac-8cff-f558053f0bfa",
   "metadata": {},
   "outputs": [],
   "source": [
    "import pandas as pd\n",
    "from sklearn.model_selection import train_test_split\n",
    "from sklearn.preprocessing import StandardScaler\n",
    "from sklearn.linear_model import LogisticRegression\n",
    "from sklearn.tree import DecisionTreeClassifier\n",
    "from sklearn.ensemble import RandomForestClassifier\n",
    "from sklearn.svm import SVC\n",
    "from sklearn.metrics import accuracy_score, classification_report"
   ]
  },
  {
   "cell_type": "code",
   "execution_count": 24,
   "id": "254d6683-4abc-49ab-9cac-356089f58ffb",
   "metadata": {},
   "outputs": [],
   "source": [
    "# 데이터 불러오기\n",
    "file_path = \"C:\\\\Users\\\\leehy\\\\ AI_class\\\\2week\\\\mobile.csv\"\n",
    "df = pd.read_csv(file_path)"
   ]
  },
  {
   "cell_type": "code",
   "execution_count": 25,
   "id": "832c51cd-80f8-4ea1-9f4e-94f7afa4cac5",
   "metadata": {},
   "outputs": [],
   "source": [
    "# 데이터 분할 (80% 훈련, 20% 테스트)\n",
    "X = df.drop(columns=[\"price_range\"])\n",
    "y = df[\"price_range\"]\n",
    "\n",
    "X_train, X_test, y_train, y_test = train_test_split(X, y, test_size=0.2, random_state=42, stratify=y)\n",
    "\n",
    "# 데이터 스케일링 (SVM과 로지스틱 회귀를 위해 필요)\n",
    "scaler = StandardScaler()\n",
    "X_train_scaled = scaler.fit_transform(X_train)\n",
    "X_test_scaled = scaler.transform(X_test)\n",
    "\n",
    "# 모델 초기화\n",
    "models = {\n",
    "    \"Logistic Regression\": LogisticRegression(max_iter=1000),\n",
    "    \"Decision Tree\": DecisionTreeClassifier(random_state=42),\n",
    "    \"Random Forest\": RandomForestClassifier(n_estimators=100, random_state=42),\n",
    "    \"SVM\": SVC(kernel=\"linear\")\n",
    "}"
   ]
  },
  {
   "cell_type": "code",
   "execution_count": 26,
   "id": "bc4fd1e4-6112-4b3a-8bf9-985d240d5a2f",
   "metadata": {},
   "outputs": [],
   "source": [
    "# 모델 학습 및 평가\n",
    "results = {}\n",
    "classification_reports = {}\n",
    "\n",
    "for name, model in models.items():\n",
    "    if name in [\"Logistic Regression\", \"SVM\"]:\n",
    "        model.fit(X_train_scaled, y_train)\n",
    "        y_pred = model.predict(X_test_scaled)\n",
    "    else:\n",
    "        model.fit(X_train, y_train)\n",
    "        y_pred = model.predict(X_test)\n",
    "    \n",
    "    acc = accuracy_score(y_test, y_pred)\n",
    "    results[name] = acc\n",
    "    classification_reports[name] = classification_report(y_test, y_pred, output_dict=True)"
   ]
  },
  {
   "cell_type": "code",
   "execution_count": 27,
   "id": "96466c4e-3496-47ed-9fe8-72ddceaec6be",
   "metadata": {},
   "outputs": [
    {
     "name": "stdout",
     "output_type": "stream",
     "text": [
      "Model Accuracy Scores:\n",
      "Logistic Regression: 0.9650\n",
      "Decision Tree: 0.8300\n",
      "Random Forest: 0.8800\n",
      "SVM: 0.9625\n",
      "\n",
      "Logistic Regression Classification Report:\n",
      "              precision  recall  f1-score  support\n",
      "0              0.989899   0.980  0.984925  100.000\n",
      "1              0.960000   0.960  0.960000  100.000\n",
      "2              0.949495   0.940  0.944724  100.000\n",
      "3              0.960784   0.980  0.970297  100.000\n",
      "accuracy       0.965000   0.965  0.965000    0.965\n",
      "macro avg      0.965045   0.965  0.964986  400.000\n",
      "weighted avg   0.965045   0.965  0.964986  400.000\n",
      "\n",
      "Decision Tree Classification Report:\n",
      "              precision  recall  f1-score  support\n",
      "0              0.876190    0.92  0.897561   100.00\n",
      "1              0.778947    0.74  0.758974   100.00\n",
      "2              0.747664    0.80  0.772947   100.00\n",
      "3              0.924731    0.86  0.891192   100.00\n",
      "accuracy       0.830000    0.83  0.830000     0.83\n",
      "macro avg      0.831883    0.83  0.830168   400.00\n",
      "weighted avg   0.831883    0.83  0.830168   400.00\n",
      "\n",
      "Random Forest Classification Report:\n",
      "              precision  recall  f1-score  support\n",
      "0              0.950495    0.96  0.955224   100.00\n",
      "1              0.823529    0.84  0.831683   100.00\n",
      "2              0.814433    0.79  0.802030   100.00\n",
      "3              0.930000    0.93  0.930000   100.00\n",
      "accuracy       0.880000    0.88  0.880000     0.88\n",
      "macro avg      0.879614    0.88  0.879734   400.00\n",
      "weighted avg   0.879614    0.88  0.879734   400.00\n",
      "\n",
      "SVM Classification Report:\n",
      "              precision  recall  f1-score   support\n",
      "0              0.989691  0.9600  0.974619  100.0000\n",
      "1              0.950000  0.9500  0.950000  100.0000\n",
      "2              0.950000  0.9500  0.950000  100.0000\n",
      "3              0.961165  0.9900  0.975369  100.0000\n",
      "accuracy       0.962500  0.9625  0.962500    0.9625\n",
      "macro avg      0.962714  0.9625  0.962497  400.0000\n",
      "weighted avg   0.962714  0.9625  0.962497  400.0000\n"
     ]
    }
   ],
   "source": [
    "# 정확도 출력\n",
    "print(\"Model Accuracy Scores:\")\n",
    "for model, score in results.items():\n",
    "    print(f\"{model}: {score:.2%}\")  # 정확도를 퍼센트(%)로 출력\n"
   ]
  }
 ],
 "metadata": {
  "kernelspec": {
   "display_name": "Python 3 (ipykernel)",
   "language": "python",
   "name": "python3"
  },
  "language_info": {
   "codemirror_mode": {
    "name": "ipython",
    "version": 3
   },
   "file_extension": ".py",
   "mimetype": "text/x-python",
   "name": "python",
   "nbconvert_exporter": "python",
   "pygments_lexer": "ipython3",
   "version": "3.12.7"
  }
 },
 "nbformat": 4,
 "nbformat_minor": 5
}
