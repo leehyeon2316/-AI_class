{
 "cells": [
  {
   "cell_type": "code",
   "execution_count": 70,
   "id": "3dc806a2-644f-4284-96dd-5b6fe478b664",
   "metadata": {},
   "outputs": [],
   "source": [
    "import pandas as pd\n",
    "import numpy as np\n",
    "from sklearn.model_selection import train_test_split\n",
    "from sklearn.preprocessing import LabelEncoder\n",
    "from sklearn.ensemble import RandomForestClassifier\n",
    "from sklearn.tree import DecisionTreeClassifier\n",
    "from sklearn.linear_model import LogisticRegression\n",
    "from sklearn.neighbors import KNeighborsClassifier\n",
    "from sklearn.svm import SVC\n",
    "from sklearn.metrics import accuracy_score, confusion_matrix\n",
    "\n"
   ]
  },
  {
   "cell_type": "code",
   "execution_count": 71,
   "id": "03e7df08-d67d-4007-9c4b-1b309773750f",
   "metadata": {},
   "outputs": [],
   "source": [
    "# 1. 데이터 로딩\n",
    "file_path = \"titanic.csv\"  \n",
    "df = pd.read_csv(file_path)"
   ]
  },
  {
   "cell_type": "code",
   "execution_count": 72,
   "id": "ef37fc9b-dc45-47ce-880f-384685fcbf20",
   "metadata": {},
   "outputs": [
    {
     "name": "stdout",
     "output_type": "stream",
     "text": [
      "결측치 확인:\n",
      "PassengerId      0\n",
      "Survived         0\n",
      "Pclass           0\n",
      "Name             0\n",
      "Sex              0\n",
      "Age            177\n",
      "SibSp            0\n",
      "Parch            0\n",
      "Ticket           0\n",
      "Fare             0\n",
      "Cabin          687\n",
      "Embarked         2\n",
      "dtype: int64\n"
     ]
    }
   ],
   "source": [
    "# 2. 결측치 확인\n",
    "print(\"결측치 확인:\")\n",
    "print(df.isnull().sum())"
   ]
  },
  {
   "cell_type": "code",
   "execution_count": 73,
   "id": "a957f196-defe-41c3-af60-ea3fb2bc5f26",
   "metadata": {},
   "outputs": [],
   "source": [
    "# 3. 결측치 처리 (Age는 평균으로, Cabin과 Embarked는 제거)\n",
    "df['Age'] = df['Age'].fillna(df['Age'].mean())  # inplace=True 제거\n",
    "\n",
    "df = df.drop(columns=['Cabin', 'Embarked'], errors='ignore')  # inplace=True 제거\n"
   ]
  },
  {
   "cell_type": "code",
   "execution_count": 74,
   "id": "ecea0a27-ac9c-4966-826b-3692e781efdb",
   "metadata": {},
   "outputs": [
    {
     "name": "stdout",
     "output_type": "stream",
     "text": [
      "\n",
      "레이블 확인 (변환 전):\n",
      "Survived\n",
      "0    549\n",
      "1    342\n",
      "Name: count, dtype: int64\n"
     ]
    }
   ],
   "source": [
    "# 4. 레이블 확인 (imbalanced data)\n",
    "print(\"\\n레이블 확인 (변환 전):\")\n",
    "print(df['Survived'].value_counts())\n"
   ]
  },
  {
   "cell_type": "code",
   "execution_count": 75,
   "id": "bd859943-b4d7-4140-b042-2d6596295be0",
   "metadata": {},
   "outputs": [],
   "source": [
    "# 5. 불필요한 컬럼 제거\n",
    "df.drop(columns=['PassengerId', 'Name', 'Ticket'], inplace=True, errors='ignore')"
   ]
  },
  {
   "cell_type": "code",
   "execution_count": 76,
   "id": "7c3c9f9e-9e13-4c2d-bf6b-0a87dfeb3381",
   "metadata": {},
   "outputs": [],
   "source": [
    "# 6. 엔코딩 (숫자로 변환)\n",
    "label_enc = LabelEncoder()\n",
    "df['Sex'] = label_enc.fit_transform(df['Sex'])\n"
   ]
  },
  {
   "cell_type": "code",
   "execution_count": 77,
   "id": "2ca5e2ad-6895-4b26-9f29-56b33ead0abe",
   "metadata": {},
   "outputs": [
    {
     "name": "stdout",
     "output_type": "stream",
     "text": [
      "\n",
      "레이블 확인 (변환 후):\n",
      "Survived\n",
      "0    549\n",
      "1    342\n",
      "Name: count, dtype: int64\n"
     ]
    }
   ],
   "source": [
    "# 변환 후 레이블 확인\n",
    "print(\"\\n레이블 확인 (변환 후):\")\n",
    "print(df['Survived'].value_counts())\n",
    "\n",
    "# 데이터 분할\n",
    "X = df.drop(columns=['Survived'])\n",
    "y = df['Survived']\n",
    "X_train, X_test, y_train, y_test = train_test_split(X, y, test_size=0.2, random_state=42)"
   ]
  },
  {
   "cell_type": "code",
   "execution_count": 78,
   "id": "53ea41fb-ba06-4128-b826-9615d2ecf1cc",
   "metadata": {},
   "outputs": [],
   "source": [
    "# 모델 정의\n",
    "models = {\n",
    "    \"Random Forest\": RandomForestClassifier(),\n",
    "    \"Decision Tree\": DecisionTreeClassifier(),\n",
    "    \"Logistic Regression\": LogisticRegression(),\n",
    "    \"KNN\": KNeighborsClassifier(),\n",
    "    \"SVM\": SVC()\n",
    "}\n"
   ]
  },
  {
   "cell_type": "code",
   "execution_count": 79,
   "id": "236c8c3d-c944-4bd8-a428-6e9dffd02912",
   "metadata": {},
   "outputs": [],
   "source": [
    "# 모델 학습 및 평가\n",
    "results = []\n",
    "conf_matrices = {}\n",
    "\n",
    "for name, model in models.items():\n",
    "    model.fit(X_train, y_train)\n",
    "    y_pred = model.predict(X_test)\n",
    "    acc = accuracy_score(y_test, y_pred)\n",
    "    conf_matrix = confusion_matrix(y_test, y_pred)\n",
    "    results.append({\"Model\": name, \"Accuracy\": acc})\n",
    "    conf_matrices[name] = conf_matrix\n"
   ]
  },
  {
   "cell_type": "code",
   "execution_count": 80,
   "id": "678d9050-37f6-4e02-b10d-87aec56a2661",
   "metadata": {},
   "outputs": [
    {
     "name": "stdout",
     "output_type": "stream",
     "text": [
      "\n",
      "모델 정확도 결과:\n",
      "                 Model  Accuracy\n",
      "0        Random Forest  0.787709\n",
      "1        Decision Tree  0.754190\n",
      "2  Logistic Regression  0.810056\n",
      "3                  KNN  0.698324\n",
      "4                  SVM  0.653631\n"
     ]
    }
   ],
   "source": [
    "# 결과 출력\n",
    "results_df = pd.DataFrame(results)\n",
    "print(\"\\n모델 정확도 결과:\")\n",
    "print(results_df)"
   ]
  }
 ],
 "metadata": {
  "kernelspec": {
   "display_name": "Python 3 (ipykernel)",
   "language": "python",
   "name": "python3"
  },
  "language_info": {
   "codemirror_mode": {
    "name": "ipython",
    "version": 3
   },
   "file_extension": ".py",
   "mimetype": "text/x-python",
   "name": "python",
   "nbconvert_exporter": "python",
   "pygments_lexer": "ipython3",
   "version": "3.12.7"
  }
 },
 "nbformat": 4,
 "nbformat_minor": 5
}
