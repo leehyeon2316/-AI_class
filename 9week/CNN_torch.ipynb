{
 "cells": [
  {
   "cell_type": "code",
   "execution_count": 23,
   "id": "31754b66-8e91-42e4-9f63-a11662584306",
   "metadata": {},
   "outputs": [],
   "source": [
    "import torch\n",
    "import torch.nn as nn\n",
    "import torch.optim as optim\n",
    "from torch.utils.data import DataLoader\n",
    "from torchvision import datasets, transforms"
   ]
  },
  {
   "cell_type": "code",
   "execution_count": 24,
   "id": "9629282f-a85b-401c-89f1-0d2070b5a512",
   "metadata": {},
   "outputs": [],
   "source": [
    "# 1) 하이퍼파라미터 및 디바이스 설정\n",
    "batch_size = 64\n",
    "learning_rate = 1e-3\n",
    "num_epochs = 5\n",
    "device = torch.device('cuda' if torch.cuda.is_available() else 'cpu')"
   ]
  },
  {
   "cell_type": "code",
   "execution_count": 25,
   "id": "d64b8d9b-dbbb-43de-b73b-091a6e7b452e",
   "metadata": {},
   "outputs": [],
   "source": [
    "# 2) 데이터 준비: MNIST, 픽셀값은 ToTensor()로 [0,1] 범위로 자동 정규화\n",
    "transform = transforms.Compose([\n",
    "    transforms.ToTensor(),\n",
    "])\n",
    "\n",
    "train_ds = datasets.MNIST(root='./data', train=True, download=True, transform=transform)\n",
    "test_ds  = datasets.MNIST(root='./data', train=False, download=True, transform=transform)\n",
    "\n",
    "train_loader = DataLoader(train_ds, batch_size=batch_size, shuffle=True)\n",
    "test_loader  = DataLoader(test_ds,  batch_size=batch_size, shuffle=False)"
   ]
  },
  {
   "cell_type": "code",
   "execution_count": 26,
   "id": "9c7177f1-93aa-4a0b-b32c-df7356788389",
   "metadata": {},
   "outputs": [],
   "source": [
    "# 3) 모델 정의: Conv→ReLU→Pool ×2, Conv→ReLU, Flatten → FC\n",
    "class CNN(nn.Module):\n",
    "    def __init__(self):\n",
    "        super().__init__()\n",
    "        self.conv1 = nn.Conv2d(1,  32, kernel_size=3)   # 28→26\n",
    "        self.conv2 = nn.Conv2d(32, 64, kernel_size=3)   # 13→11\n",
    "        self.conv3 = nn.Conv2d(64, 64, kernel_size=3)   # 5→3\n",
    "        self.pool  = nn.MaxPool2d(2)                    # 26→13, 11→5\n",
    "        self.fc1   = nn.Linear(64 * 3 * 3, 64)\n",
    "        self.fc2   = nn.Linear(64, 10)\n",
    "\n",
    "    def forward(self, x):\n",
    "        x = self.pool(torch.relu(self.conv1(x)))  # → (batch,32,13,13)\n",
    "        x = self.pool(torch.relu(self.conv2(x)))  # → (batch,64,5,5)\n",
    "        x = torch.relu(self.conv3(x))             # → (batch,64,3,3)\n",
    "        x = x.view(x.size(0), -1)                 # flatten\n",
    "        x = torch.relu(self.fc1(x))\n",
    "        return self.fc2(x)                        # logits\n",
    "\n",
    "model = CNN().to(device)"
   ]
  },
  {
   "cell_type": "code",
   "execution_count": 27,
   "id": "f73c2f55-3bcf-4c8a-9438-b59cad104986",
   "metadata": {},
   "outputs": [],
   "source": [
    "# 4) 손실함수 & 옵티마이저\n",
    "criterion = nn.CrossEntropyLoss()\n",
    "optimizer = optim.Adam(model.parameters(), lr=learning_rate)"
   ]
  },
  {
   "cell_type": "code",
   "execution_count": 28,
   "id": "830d1974-6ac1-4cbe-aae4-3dd0fc5bb694",
   "metadata": {},
   "outputs": [
    {
     "name": "stdout",
     "output_type": "stream",
     "text": [
      "Epoch 1/5 — Loss: 0.2190\n",
      "Epoch 2/5 — Loss: 0.0581\n",
      "Epoch 3/5 — Loss: 0.0413\n",
      "Epoch 4/5 — Loss: 0.0332\n",
      "Epoch 5/5 — Loss: 0.0275\n"
     ]
    }
   ],
   "source": [
    "# 5) 학습 루프\n",
    "for epoch in range(1, num_epochs + 1):\n",
    "    model.train()\n",
    "    running_loss = 0.0\n",
    "    for images, labels in train_loader:\n",
    "        images, labels = images.to(device), labels.to(device)\n",
    "        optimizer.zero_grad()\n",
    "        outputs = model(images)\n",
    "        loss = criterion(outputs, labels)\n",
    "        loss.backward()\n",
    "        optimizer.step()\n",
    "        running_loss += loss.item() * images.size(0)\n",
    "    avg_loss = running_loss / len(train_loader.dataset)\n",
    "    print(f\"Epoch {epoch}/{num_epochs} — Loss: {avg_loss:.4f}\")\n"
   ]
  },
  {
   "cell_type": "code",
   "execution_count": 29,
   "id": "72637580-d667-450c-b501-e3a99a3ac054",
   "metadata": {},
   "outputs": [
    {
     "name": "stdout",
     "output_type": "stream",
     "text": [
      "Test Accuracy: 0.9922\n"
     ]
    }
   ],
   "source": [
    " # 6) 평가\n",
    "model.eval()\n",
    "correct = 0\n",
    "with torch.no_grad():\n",
    "    for images, labels in test_loader:\n",
    "        images, labels = images.to(device), labels.to(device)\n",
    "        outputs = model(images)\n",
    "        preds = outputs.argmax(dim=1)\n",
    "        correct += (preds == labels).sum().item()\n",
    "accuracy = correct / len(test_loader.dataset)\n",
    "print(f\"Test Accuracy: {accuracy:.4f}\")\n"
   ]
  },
  {
   "cell_type": "code",
   "execution_count": 37,
   "id": "eaac3eea-0a18-431f-8df8-796669709eab",
   "metadata": {},
   "outputs": [],
   "source": [
    "# 7-1) 전체 예측값과 실제값 수집\n",
    "all_preds  = []\n",
    "all_labels = []\n",
    "model.eval()\n",
    "with torch.no_grad():\n",
    "    for images, labels in test_loader:\n",
    "        images, labels = images.to(device), labels.to(device)\n",
    "        outputs = model(images)\n",
    "        preds = outputs.argmax(dim=1)\n",
    "        all_preds.append(preds.cpu())\n",
    "        all_labels.append(labels.cpu())\n",
    "\n",
    "all_preds  = torch.cat(all_preds).numpy()\n",
    "all_labels = torch.cat(all_labels).numpy()"
   ]
  },
  {
   "cell_type": "code",
   "execution_count": 39,
   "id": "aed32775-a142-4602-a89c-a01a8ae06b2b",
   "metadata": {},
   "outputs": [
    {
     "name": "stdout",
     "output_type": "stream",
     "text": [
      "\n",
      "=== Classification Report ===\n"
     ]
    },
    {
     "ename": "NameError",
     "evalue": "name 'classification_report' is not defined",
     "output_type": "error",
     "traceback": [
      "\u001b[1;31m---------------------------------------------------------------------------\u001b[0m",
      "\u001b[1;31mNameError\u001b[0m                                 Traceback (most recent call last)",
      "Cell \u001b[1;32mIn[39], line 3\u001b[0m\n\u001b[0;32m      1\u001b[0m \u001b[38;5;66;03m# 7-2) 클래스별 성능 리포트\u001b[39;00m\n\u001b[0;32m      2\u001b[0m \u001b[38;5;28mprint\u001b[39m(\u001b[38;5;124m\"\u001b[39m\u001b[38;5;130;01m\\n\u001b[39;00m\u001b[38;5;124m=== Classification Report ===\u001b[39m\u001b[38;5;124m\"\u001b[39m)\n\u001b[1;32m----> 3\u001b[0m \u001b[38;5;28mprint\u001b[39m(\u001b[43mclassification_report\u001b[49m(all_labels, all_preds))\n",
      "\u001b[1;31mNameError\u001b[0m: name 'classification_report' is not defined"
     ]
    }
   ],
   "source": [
    "# 7-2) 클래스별 성능 리포트\n",
    "print(\"\\n=== Classification Report ===\")\n",
    "print(classification_report(all_labels, all_preds))\n"
   ]
  },
  {
   "cell_type": "code",
   "execution_count": null,
   "id": "a8eb1de4-a9c9-42ce-b278-35df6363c2d0",
   "metadata": {},
   "outputs": [],
   "source": [
    "# 7-3) 혼동행렬 시각화\n",
    "cm = confusion_matrix(all_labels, all_preds)\n",
    "plt.figure(figsize=(8,6))\n",
    "sns.heatmap(cm, annot=True, fmt='d', cmap='Blues')\n",
    "plt.title('Confusion Matrix')\n",
    "plt.xlabel('Predicted Label')\n",
    "plt.ylabel('True Label')\n",
    "plt.show()"
   ]
  },
  {
   "cell_type": "code",
   "execution_count": null,
   "id": "9bbb326c-e2f1-41b6-90ee-ae4be01bc20a",
   "metadata": {},
   "outputs": [],
   "source": [
    "# 7-4) 샘플 이미지와 예측 결과 확인\n",
    "fig, axes = plt.subplots(2, 5, figsize=(12, 5))\n",
    "for idx, ax in enumerate(axes.flatten()):\n",
    "    img, true_label = test_ds[idx]\n",
    "    ax.imshow(img.squeeze(0), cmap='gray')\n",
    "    ax.set_title(f\"T:{true_label} / P:{all_preds[idx]}\")\n",
    "    ax.axis('off')\n",
    "plt.tight_layout()\n",
    "plt.show()"
   ]
  }
 ],
 "metadata": {
  "kernelspec": {
   "display_name": "Python 3 (ipykernel)",
   "language": "python",
   "name": "python3"
  },
  "language_info": {
   "codemirror_mode": {
    "name": "ipython",
    "version": 3
   },
   "file_extension": ".py",
   "mimetype": "text/x-python",
   "name": "python",
   "nbconvert_exporter": "python",
   "pygments_lexer": "ipython3",
   "version": "3.12.7"
  }
 },
 "nbformat": 4,
 "nbformat_minor": 5
}
