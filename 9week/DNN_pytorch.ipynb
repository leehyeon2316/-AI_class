{
 "cells": [
  {
   "cell_type": "code",
   "execution_count": 5,
   "id": "59732406-b1e2-49d8-a854-c36e51bf4ca5",
   "metadata": {},
   "outputs": [
    {
     "name": "stdout",
     "output_type": "stream",
     "text": [
      "0.9777777777777777\n",
      "[6]\n"
     ]
    },
    {
     "data": {
      "image/png": "[encoded data removed]",
      "text/plain": [
       "<Figure size 640x480 with 1 Axes>"
      ]
     },
     "metadata": {},
     "output_type": "display_data"
    }
   ],
   "source": [
    "import matplotlib.pyplot as plt\n",
    "\n",
    "from sklearn import datasets, metrics\n",
    "from sklearn.model_selection import train_test_split\n",
    "\n",
    "digits = datasets.load_digits()\n",
    "plt.imshow(digits.images[0], cmap = plt.cm.gray_r, interpolation='nearest')\n",
    "\n",
    "n_samples = len(digits.images)\n",
    "data = digits.images.reshape((n_samples, -1))\n",
    "\n",
    "from sklearn.neighbors import KNeighborsClassifier\n",
    "\n",
    "knn = KNeighborsClassifier(n_neighbors=6)\n",
    "\n",
    "X_train, X_test, y_train, y_test = train_test_split(\n",
    "    data, digits.target, test_size = 0.2)\n",
    "\n",
    "knn.fit(X_train, y_train)\n",
    "\n",
    "y_pred = knn.predict(X_test)\n",
    "\n",
    "scores = metrics.accuracy_score(y_test, y_pred)\n",
    "print(scores)\n",
    "\n",
    "plt.imshow(X_test[10].reshape(8,8), cmap=plt.cm.gray_r, interpolation='nearest')\n",
    "y_pred = knn.predict([X_test[10]])\n",
    "print(y_pred)\n"
   ]
  },
  {
   "cell_type": "code",
   "execution_count": 6,
   "id": "f48abafa-5f67-4055-af78-d4265e8b9da3",
   "metadata": {},
   "outputs": [],
   "source": [
    "import torch\n",
    "import torch.nn as nn\n",
    "import torch.optim as optim\n",
    "from sklearn.datasets import load_digits\n",
    "from sklearn.model_selection import train_test_split\n",
    "import numpy as np\n",
    "import matplotlib.pyplot as plt"
   ]
  },
  {
   "cell_type": "code",
   "execution_count": 7,
   "id": "9fa36749-f62e-43ac-afa9-46deb07c9134",
   "metadata": {},
   "outputs": [],
   "source": [
    "# 1) 데이터 로드 및 전처리\n",
    "digits = load_digits()\n",
    "X = digits.images.reshape(-1, 64).astype(np.float32)  # (n_samples, 64)\n",
    "y = digits.target.astype(np.int64)                    # (n_samples,)\n",
    "\n",
    "# train/test 분할\n",
    "X_train, X_test, y_train, y_test = train_test_split(\n",
    "    X, y, test_size=0.2, random_state=42, stratify=y\n",
    ")\n",
    "\n",
    "# numpy → torch.Tensor 변환\n",
    "train_ds = torch.utils.data.TensorDataset(\n",
    "    torch.from_numpy(X_train), torch.from_numpy(y_train)\n",
    ")\n",
    "test_ds = torch.utils.data.TensorDataset(\n",
    "    torch.from_numpy(X_test), torch.from_numpy(y_test)\n",
    ")\n",
    "train_loader = torch.utils.data.DataLoader(train_ds, batch_size=32, shuffle=True)\n",
    "test_loader  = torch.utils.data.DataLoader(test_ds,  batch_size=32, shuffle=False)"
   ]
  },
  {
   "cell_type": "code",
   "execution_count": 8,
   "id": "df44dc68-c3b8-4337-84ef-24bd8978b43d",
   "metadata": {},
   "outputs": [],
   "source": [
    "# 2) 모델 정의\n",
    "class DNN(nn.Module):\n",
    "    def __init__(self):\n",
    "        super().__init__()\n",
    "        self.net = nn.Sequential(\n",
    "            nn.Linear(64, 128),\n",
    "            nn.ReLU(),\n",
    "            nn.Linear(128, 64),\n",
    "            nn.ReLU(),\n",
    "            nn.Linear(64, 10)\n",
    "        )\n",
    "    def forward(self, x):\n",
    "        return self.net(x)\n",
    "\n",
    "device = torch.device('cuda' if torch.cuda.is_available() else 'cpu')\n",
    "model = DNN().to(device)"
   ]
  },
  {
   "cell_type": "code",
   "execution_count": 9,
   "id": "055db80d-c69c-40cb-8900-64033832888c",
   "metadata": {},
   "outputs": [],
   "source": [
    "# 3) 손실함수, 옵티마이저\n",
    "criterion = nn.CrossEntropyLoss()\n",
    "optimizer = optim.Adam(model.parameters(), lr=1e-3)"
   ]
  },
  {
   "cell_type": "code",
   "execution_count": 10,
   "id": "402126dd-1e63-4ca1-8c87-4546ffd65f2a",
   "metadata": {},
   "outputs": [
    {
     "name": "stdout",
     "output_type": "stream",
     "text": [
      "Epoch  1/20 — Loss: 1.0223\n",
      "Epoch  2/20 — Loss: 0.2637\n",
      "Epoch  3/20 — Loss: 0.1494\n",
      "Epoch  4/20 — Loss: 0.1047\n",
      "Epoch  5/20 — Loss: 0.0778\n",
      "Epoch  6/20 — Loss: 0.0569\n",
      "Epoch  7/20 — Loss: 0.0479\n",
      "Epoch  8/20 — Loss: 0.0331\n",
      "Epoch  9/20 — Loss: 0.0296\n",
      "Epoch 10/20 — Loss: 0.0205\n",
      "Epoch 11/20 — Loss: 0.0227\n",
      "Epoch 12/20 — Loss: 0.0136\n",
      "Epoch 13/20 — Loss: 0.0122\n",
      "Epoch 14/20 — Loss: 0.0084\n",
      "Epoch 15/20 — Loss: 0.0078\n",
      "Epoch 16/20 — Loss: 0.0092\n",
      "Epoch 17/20 — Loss: 0.0062\n",
      "Epoch 18/20 — Loss: 0.0037\n",
      "Epoch 19/20 — Loss: 0.0032\n",
      "Epoch 20/20 — Loss: 0.0026\n"
     ]
    }
   ],
   "source": [
    "# 4) 학습 루프\n",
    "num_epochs = 20\n",
    "for epoch in range(1, num_epochs+1):\n",
    "    model.train()\n",
    "    total_loss = 0\n",
    "    for xb, yb in train_loader:\n",
    "        xb, yb = xb.to(device), yb.to(device)\n",
    "        optimizer.zero_grad()\n",
    "        out = model(xb)\n",
    "        loss = criterion(out, yb)\n",
    "        loss.backward()\n",
    "        optimizer.step()\n",
    "        total_loss += loss.item() * xb.size(0)\n",
    "    avg_loss = total_loss / len(train_loader.dataset)\n",
    "    print(f\"Epoch {epoch:2d}/{num_epochs} — Loss: {avg_loss:.4f}\")"
   ]
  },
  {
   "cell_type": "code",
   "execution_count": 11,
   "id": "6d562ddc-76d1-451c-a4c3-df16c2709945",
   "metadata": {},
   "outputs": [
    {
     "name": "stdout",
     "output_type": "stream",
     "text": [
      "Test Accuracy: 0.9833\n"
     ]
    }
   ],
   "source": [
    "# 5) 평가\n",
    "model.eval()\n",
    "correct = 0\n",
    "with torch.no_grad():\n",
    "    for xb, yb in test_loader:\n",
    "        xb, yb = xb.to(device), yb.to(device)\n",
    "        out = model(xb)\n",
    "        preds = out.argmax(dim=1)\n",
    "        correct += (preds == yb).sum().item()\n",
    "acc = correct / len(test_loader.dataset)\n",
    "print(f\"Test Accuracy: {acc:.4f}\")"
   ]
  },
  {
   "cell_type": "code",
   "execution_count": 12,
   "id": "bc93a4b9-8e26-44e9-9ae2-5b0bacbb8b1f",
   "metadata": {},
   "outputs": [
    {
     "data": {
      "image/png": "[encoded data removed]",
      "text/plain": [
       "<Figure size 640x480 with 1 Axes>"
      ]
     },
     "metadata": {},
     "output_type": "display_data"
    }
   ],
   "source": [
    "# 6) 샘플 시각화\n",
    "idx = 10\n",
    "plt.imshow(X_test[idx].reshape(8,8), cmap='gray_r', interpolation='nearest')\n",
    "with torch.no_grad():\n",
    "    sample = torch.from_numpy(X_test[idx]).unsqueeze(0).to(device)\n",
    "    pred_label = model(sample).argmax().item()\n",
    "plt.title(f\"Pred: {pred_label} / True: {y_test[idx]}\")\n",
    "plt.axis('off')\n",
    "plt.show()\n"
   ]
  }
 ],
 "metadata": {
  "kernelspec": {
   "display_name": "Python 3 (ipykernel)",
   "language": "python",
   "name": "python3"
  },
  "language_info": {
   "codemirror_mode": {
    "name": "ipython",
    "version": 3
   },
   "file_extension": ".py",
   "mimetype": "text/x-python",
   "name": "python",
   "nbconvert_exporter": "python",
   "pygments_lexer": "ipython3",
   "version": "3.12.7"
  }
 },
 "nbformat": 4,
 "nbformat_minor": 5
}
